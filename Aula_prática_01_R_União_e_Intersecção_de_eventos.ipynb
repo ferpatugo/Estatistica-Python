{
  "cells": [
    {
      "cell_type": "markdown",
      "metadata": {
        "id": "view-in-github",
        "colab_type": "text"
      },
      "source": [
        "<a href=\"https://colab.research.google.com/github/ferpatugo/Estatistica-Python/blob/main/Aula_pr%C3%A1tica_01_R_Uni%C3%A3o_e_Intersec%C3%A7%C3%A3o_de_eventos.ipynb\" target=\"_parent\"><img src=\"https://colab.research.google.com/assets/colab-badge.svg\" alt=\"Open In Colab\"/></a>"
      ]
    },
    {
      "cell_type": "code",
      "execution_count": 1,
      "metadata": {
        "id": "6JU1yR9a84wY"
      },
      "outputs": [],
      "source": [
        "import pandas as pd\n",
        "import numpy as np\n",
        "import random\n",
        "import matplotlib.pyplot as plt"
      ]
    },
    {
      "cell_type": "code",
      "execution_count": 9,
      "metadata": {
        "colab": {
          "base_uri": "https://localhost:8080/",
          "height": 472
        },
        "id": "bFBGjI9J84wZ",
        "outputId": "12c836fe-184a-4eb7-f0e7-106f4b56bd87"
      },
      "outputs": [
        {
          "output_type": "display_data",
          "data": {
            "text/plain": [
              "<Figure size 640x480 with 1 Axes>"
            ],
            "image/png": "[encoded data removed]"
          },
          "metadata": {}
        }
      ],
      "source": [
        "random.seed(123)\n",
        "dice_rolls = [random.randint(1, 6) for _ in range(3)]\n",
        "plt.bar(range(1,4), dice_rolls)\n",
        "plt.title(\"Dice rolls\")\n",
        "plt.xlabel(\"Roll Number\")\n",
        "plt.ylabel(\"Result\")\n",
        "plt.show()"
      ]
    },
    {
      "cell_type": "code",
      "execution_count": 10,
      "metadata": {
        "colab": {
          "base_uri": "https://localhost:8080/"
        },
        "id": "FaPwCafq84wZ",
        "outputId": "2902affa-54c6-4a11-cc38-f434b86f7114"
      },
      "outputs": [
        {
          "output_type": "stream",
          "name": "stdout",
          "text": [
            "   X1\n",
            "0   1\n",
            "1   2\n",
            "2   3\n",
            "3   4\n",
            "4   5\n",
            "5   6\n"
          ]
        }
      ],
      "source": [
        "dado_resultado = pd.DataFrame({'X1': [1, 2, 3, 4, 5, 6]})\n",
        "print(dado_resultado)"
      ]
    },
    {
      "cell_type": "code",
      "execution_count": 11,
      "metadata": {
        "id": "sI6U0veo84wZ"
      },
      "outputs": [],
      "source": [
        "A = dado_resultado[dado_resultado['X1'] % 2 == 0]\n",
        "B = dado_resultado[dado_resultado['X1'] > 3]"
      ]
    },
    {
      "cell_type": "code",
      "execution_count": 12,
      "metadata": {
        "colab": {
          "base_uri": "https://localhost:8080/"
        },
        "id": "K6FQ-B2V84wa",
        "outputId": "f7a231cf-50b9-4766-9955-2956209863c0"
      },
      "outputs": [
        {
          "output_type": "stream",
          "name": "stdout",
          "text": [
            "   X1\n",
            "1   2\n",
            "3   4\n",
            "5   6\n"
          ]
        }
      ],
      "source": [
        "print(A)"
      ]
    },
    {
      "cell_type": "code",
      "execution_count": 13,
      "metadata": {
        "colab": {
          "base_uri": "https://localhost:8080/"
        },
        "id": "AYYL6m1G84wa",
        "outputId": "0bb12bdf-12bd-4328-bf69-c3f9bfb8995e"
      },
      "outputs": [
        {
          "output_type": "stream",
          "name": "stdout",
          "text": [
            "   X1\n",
            "3   4\n",
            "4   5\n",
            "5   6\n"
          ]
        }
      ],
      "source": [
        "print(B)"
      ]
    },
    {
      "cell_type": "code",
      "execution_count": 14,
      "metadata": {
        "colab": {
          "base_uri": "https://localhost:8080/"
        },
        "id": "eEgkE3uA84wa",
        "outputId": "abe81114-ecb4-4521-9164-58ec434ce725"
      },
      "outputs": [
        {
          "output_type": "stream",
          "name": "stdout",
          "text": [
            "   X1\n",
            "0   2\n",
            "1   4\n",
            "2   6\n",
            "3   5\n"
          ]
        }
      ],
      "source": [
        "uniao = pd.concat([A, B]).drop_duplicates().reset_index(drop=True)\n",
        "print(uniao)"
      ]
    },
    {
      "cell_type": "code",
      "execution_count": 15,
      "metadata": {
        "colab": {
          "base_uri": "https://localhost:8080/"
        },
        "id": "z8VmnIg-84wa",
        "outputId": "82c94909-db92-4503-853e-7899652e9ad1"
      },
      "outputs": [
        {
          "output_type": "stream",
          "name": "stdout",
          "text": [
            "   X1\n",
            "0   4\n",
            "1   6\n"
          ]
        }
      ],
      "source": [
        "intersecao = pd.merge(A, B)\n",
        "print(intersecao)"
      ]
    },
    {
      "cell_type": "code",
      "execution_count": 16,
      "metadata": {
        "colab": {
          "base_uri": "https://localhost:8080/",
          "height": 452
        },
        "id": "sQLyFm-W84wa",
        "outputId": "cf42a8d4-7f95-45d4-db18-0e159b88f40c"
      },
      "outputs": [
        {
          "output_type": "display_data",
          "data": {
            "text/plain": [
              "<Figure size 640x480 with 1 Axes>"
            ],
            "image/png": "[encoded data removed]"
          },
          "metadata": {}
        }
      ],
      "source": [
        "random.seed(123)\n",
        "coins = [random.choice(['Heads', 'Tails']) for _ in range(3)]\n",
        "plt.bar(range(1,4), [1 if c=='Heads' else 0 for c in coins], tick_label=coins)\n",
        "plt.title(\"Coin flips\")\n",
        "plt.show()"
      ]
    },
    {
      "cell_type": "code",
      "execution_count": 17,
      "metadata": {
        "colab": {
          "base_uri": "https://localhost:8080/"
        },
        "id": "WvGJmLF684wb",
        "outputId": "fad552f6-685f-46ff-f7b9-a35d5b207902"
      },
      "outputs": [
        {
          "output_type": "stream",
          "name": "stdout",
          "text": [
            "0.3400000000000001\n"
          ]
        }
      ],
      "source": [
        "PA = 0.30\n",
        "PB = 0.28\n",
        "PAinterB = 0.24\n",
        "PAuniaoB = PA + PB - PAinterB\n",
        "print(PAuniaoB)"
      ]
    }
  ],
  "metadata": {
    "kernelspec": {
      "display_name": "Python 3",
      "language": "python",
      "name": "python3"
    },
    "language_info": {
      "codemirror_mode": {
        "name": "ipython",
        "version": 3
      },
      "file_extension": ".py",
      "mimetype": "text/x-python",
      "name": "python",
      "nbconvert_exporter": "python",
      "pygments_lexer": "ipython3",
      "version": "3.8.10"
    },
    "colab": {
      "provenance": [],
      "include_colab_link": true
    }
  },
  "nbformat": 4,
  "nbformat_minor": 0
}