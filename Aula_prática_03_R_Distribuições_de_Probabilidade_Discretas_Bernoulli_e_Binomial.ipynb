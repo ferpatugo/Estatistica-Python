{
  "cells": [
    {
      "cell_type": "markdown",
      "metadata": {
        "id": "view-in-github",
        "colab_type": "text"
      },
      "source": [
        "<a href=\"https://colab.research.google.com/github/ferpatugo/Estatistica-Python/blob/main/Aula_pr%C3%A1tica_03_R_Distribui%C3%A7%C3%B5es_de_Probabilidade_Discretas_Bernoulli_e_Binomial.ipynb\" target=\"_parent\"><img src=\"https://colab.research.google.com/assets/colab-badge.svg\" alt=\"Open In Colab\"/></a>"
      ]
    },
    {
      "cell_type": "markdown",
      "source": [
        "# Carregando bibliotecas"
      ],
      "metadata": {
        "id": "2h8LWwNRAN8Z"
      },
      "id": "2h8LWwNRAN8Z"
    },
    {
      "cell_type": "code",
      "source": [
        "# Aula prática 03 - Python - Distribuições de Probabilidade Discretas - Bernoulli e Binomial\n",
        "from scipy.stats import binom\n",
        "import math"
      ],
      "metadata": {
        "id": "_3KadsIa_-A7"
      },
      "id": "_3KadsIa_-A7",
      "execution_count": null,
      "outputs": []
    },
    {
      "cell_type": "markdown",
      "source": [
        "# Exemplo Bernoulli"
      ],
      "metadata": {
        "id": "jWju7TtCAM6Q"
      },
      "id": "jWju7TtCAM6Q"
    },
    {
      "cell_type": "markdown",
      "source": [
        "### Imaginemos que X=\"O aluno acertar uma questão na prova\", sendo que a prova só tem uma questão, contendo certo ou errado, portanto podemos entender que o aluno tem uma resposta favorável em duas possíveis, 50% de chance de acertar a questão.\n"
      ],
      "metadata": {
        "id": "YXGnQ8fuBFn1"
      },
      "id": "YXGnQ8fuBFn1"
    },
    {
      "cell_type": "code",
      "source": [
        "p = 0.5  # Probabilidade de sucesso\n",
        "n = 1    # Número de experimentos\n",
        "\n",
        "# 1. Probabilidade de acertar exatamente 1 questão (P(X=1))\n",
        "prob_x1 = binom.pmf(1, n, p)\n",
        "print(f'P(X=1) usando pmf: {prob_x1:.4f}')"
      ],
      "metadata": {
        "id": "IiRll2qvALkj"
      },
      "id": "IiRll2qvALkj",
      "execution_count": null,
      "outputs": []
    },
    {
      "cell_type": "markdown",
      "source": [
        "# 2. Mesmo cálculo usando função de distribuição acumulada"
      ],
      "metadata": {
        "id": "AwaswzYsAYds"
      },
      "id": "AwaswzYsAYds"
    },
    {
      "cell_type": "code",
      "source": [
        "prob_x1_cdf = binom.cdf(1, n, p) - binom.cdf(0, n, p)\n",
        "print(f'P(X=1) usando cdf: {prob_x1_cdf:.4f}')"
      ],
      "metadata": {
        "id": "xzG0cchaAXc7"
      },
      "id": "xzG0cchaAXc7",
      "execution_count": null,
      "outputs": []
    },
    {
      "cell_type": "markdown",
      "source": [
        "### Imaginemos que X=\"O aluno acertar uma questão na prova\", sendo que a prova só tem duas questões, contendo certo ou errado, portanto podemos entender que o aluno tem uma resposta favorável em  duas possíveis, 50% de chance de acertar a questão.\n"
      ],
      "metadata": {
        "id": "lJHYG4SzC0q6"
      },
      "id": "lJHYG4SzC0q6"
    },
    {
      "cell_type": "code",
      "source": [
        "# Exemplo Binomial com 2 questões\n",
        "n = 2\n",
        "prob_x1_binom = binom.pmf(1, n, p)\n",
        "print(f'P(X=1) em 2 questões usando pmf: {prob_x1_binom:.4f}')\n",
        "prob_x1_binom_cdf = binom.cdf(1, n, p) - binom.cdf(0, n, p)\n",
        "print(f'P(X=1) em 2 questões usando cdf: {prob_x1_binom_cdf:.4f}')\n"
      ],
      "metadata": {
        "id": "KW-vK55FAr3X"
      },
      "id": "KW-vK55FAr3X",
      "execution_count": null,
      "outputs": []
    },
    {
      "cell_type": "markdown",
      "source": [
        "### Considere um exame de múltipla escolha com 20 questões, 5 alternativas pra cada pergunta. Caso o aluno não estude e \"chute\" todas as respostas, qual a probabilidade de acertar 30% da prova? E qual seu número esperado de acertos?"
      ],
      "metadata": {
        "id": "OGcJ2V2ODBHK"
      },
      "id": "OGcJ2V2ODBHK"
    },
    {
      "cell_type": "code",
      "execution_count": null,
      "metadata": {
        "id": "kcz35TeV_6jy"
      },
      "outputs": [],
      "source": [
        "# Exemplo 2 Binomial - 20 questões, 5 alternativas, p=0.2 chance de acertar ao acaso\n",
        "n = 20\n",
        "p = 0.2\n",
        "x = 6  # Número de acertos desejado\n",
        "\n",
        "prob_x6 = binom.pmf(x, n, p)\n",
        "print(f'P(X=6) em 20 questões com p=0.2 usando pmf: {prob_x6:.6f}')\n",
        "\n",
        "prob_x6_cdf = binom.cdf(x, n, p) - binom.cdf(x - 1, n, p)\n",
        "print(f'P(X=6) usando cdf: {prob_x6_cdf:.6f}')\n",
        "\n",
        "valor_esperado = n * p\n",
        "print(f'Valor esperado de acertos: {valor_esperado}')\n"
      ],
      "id": "kcz35TeV_6jy"
    }
  ],
  "metadata": {
    "kernelspec": {
      "display_name": "Python 3",
      "language": "python",
      "name": "python3"
    },
    "language_info": {
      "name": "python",
      "version": "3.8.10",
      "mimetype": "text/x-python",
      "codemirror_mode": {
        "name": "ipython",
        "version": 3
      },
      "pygments_lexer": "ipython3",
      "nbconvert_exporter": "python",
      "file_extension": ".py"
    },
    "colab": {
      "provenance": [],
      "include_colab_link": true
    }
  },
  "nbformat": 4,
  "nbformat_minor": 5
}