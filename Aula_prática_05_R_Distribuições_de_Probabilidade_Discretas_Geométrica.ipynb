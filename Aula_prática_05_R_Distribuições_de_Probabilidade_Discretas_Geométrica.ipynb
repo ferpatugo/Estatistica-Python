{
  "cells": [
    {
      "cell_type": "markdown",
      "metadata": {
        "id": "view-in-github",
        "colab_type": "text"
      },
      "source": [
        "<a href=\"https://colab.research.google.com/github/ferpatugo/Estatistica-Python/blob/main/Aula_pr%C3%A1tica_05_R_Distribui%C3%A7%C3%B5es_de_Probabilidade_Discretas_Geom%C3%A9trica.ipynb\" target=\"_parent\"><img src=\"https://colab.research.google.com/assets/colab-badge.svg\" alt=\"Open In Colab\"/></a>"
      ]
    },
    {
      "cell_type": "code",
      "source": [
        "# Aula prática 05 - Python - Distribuições de Probabilidade Discretas - Geométrica\n",
        "import math\n",
        "from scipy.stats import geom"
      ],
      "metadata": {
        "id": "NT80afTyLOCo"
      },
      "id": "NT80afTyLOCo",
      "execution_count": 3,
      "outputs": []
    },
    {
      "cell_type": "markdown",
      "source": [
        "# Exemplo geometrica primeira parametrização (Python não possui a segunda)\n",
        "# Probabilidade de detectar a primeira peça defeituosa na 8ª testagem\n"
      ],
      "metadata": {
        "id": "OlzJydhILRV8"
      },
      "id": "OlzJydhILRV8"
    },
    {
      "cell_type": "code",
      "source": [
        "p = 2/3  # Probabilidade de sucesso (detectar peça defeituosa)\n",
        "x = 8    # Número de testagens (posição do primeiro sucesso)\n",
        "\n",
        "# Usando função massa de probabilidade (PMF), P(X=x)\n",
        "prob_geom_pmf = geom.pmf(x, p)\n",
        "print(f'P(X={x}) usando geom.pmf: {prob_geom_pmf:.6f}')"
      ],
      "metadata": {
        "colab": {
          "base_uri": "https://localhost:8080/"
        },
        "id": "pYT242gYLWRh",
        "outputId": "f5ae0497-e7bc-418e-c674-0384a2d6048c"
      },
      "id": "pYT242gYLWRh",
      "execution_count": 4,
      "outputs": [
        {
          "output_type": "stream",
          "name": "stdout",
          "text": [
            "P(X=8) usando geom.pmf: 0.000305\n"
          ]
        }
      ]
    },
    {
      "cell_type": "markdown",
      "source": [
        "# Usando função distribuição acumulada, P(X=x) = P(X<=x) - P(X<=x-1)\n"
      ],
      "metadata": {
        "id": "-SaGfRYmLZGc"
      },
      "id": "-SaGfRYmLZGc"
    },
    {
      "cell_type": "code",
      "source": [
        "prob_geom_cdf = geom.cdf(x, p) - geom.cdf(x-1, p)\n",
        "print(f'P(X={x}) usando geom.cdf: {prob_geom_cdf:.6f}')"
      ],
      "metadata": {
        "colab": {
          "base_uri": "https://localhost:8080/"
        },
        "id": "zPCusQ0bLYEd",
        "outputId": "da287791-cdd1-41e4-ea0a-2f365769ee36"
      },
      "id": "zPCusQ0bLYEd",
      "execution_count": 5,
      "outputs": [
        {
          "output_type": "stream",
          "name": "stdout",
          "text": [
            "P(X=8) usando geom.cdf: 0.000305\n"
          ]
        }
      ]
    },
    {
      "cell_type": "markdown",
      "source": [
        "# Segunda parametrização manual (não diretamente suportada pelo scipy.stats.geom)\n",
        "# Aqui x é o número de falhas antes do primeiro sucesso (x = testagens-1)\n"
      ],
      "metadata": {
        "id": "v3Z3IlRzLbtU"
      },
      "id": "v3Z3IlRzLbtU"
    },
    {
      "cell_type": "code",
      "execution_count": 6,
      "metadata": {
        "colab": {
          "base_uri": "https://localhost:8080/"
        },
        "id": "NCMZDHLSLM7Q",
        "outputId": "14956a78-edbe-4c61-aec0-8fa5c4cb0589"
      },
      "outputs": [
        {
          "output_type": "stream",
          "name": "stdout",
          "text": [
            "P(X=7) segunda parametrização manual: 0.000305\n"
          ]
        }
      ],
      "source": [
        "def param2(num1, num2):\n",
        "    # Calcula P(X = x) segundo segunda parametrização: P(X=x) = p * (1-p)^x\n",
        "    return num2 * (1 - num2) ** num1\n",
        "\n",
        "x2 = 7  # Número de falhas antes do primeiro sucesso\n",
        "prob_param2 = param2(x2, p)\n",
        "print(f'P(X={x2}) segunda parametrização manual: {prob_param2:.6f}')"
      ],
      "id": "NCMZDHLSLM7Q"
    }
  ],
  "metadata": {
    "kernelspec": {
      "display_name": "Python 3",
      "language": "python",
      "name": "python3"
    },
    "language_info": {
      "name": "python",
      "version": "3.8.10",
      "mimetype": "text/x-python",
      "codemirror_mode": {
        "name": "ipython",
        "version": 3
      },
      "pygments_lexer": "ipython3",
      "nbconvert_exporter": "python",
      "file_extension": ".py"
    },
    "colab": {
      "provenance": [],
      "include_colab_link": true
    }
  },
  "nbformat": 4,
  "nbformat_minor": 5
}