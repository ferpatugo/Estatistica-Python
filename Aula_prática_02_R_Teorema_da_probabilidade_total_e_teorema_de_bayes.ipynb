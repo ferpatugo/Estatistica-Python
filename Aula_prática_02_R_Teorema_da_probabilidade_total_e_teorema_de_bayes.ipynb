{
  "cells": [
    {
      "cell_type": "markdown",
      "metadata": {
        "id": "view-in-github",
        "colab_type": "text"
      },
      "source": [
        "<a href=\"https://colab.research.google.com/github/ferpatugo/Estatistica-Python/blob/main/Aula_pr%C3%A1tica_02_R_Teorema_da_probabilidade_total_e_teorema_de_bayes.ipynb\" target=\"_parent\"><img src=\"https://colab.research.google.com/assets/colab-badge.svg\" alt=\"Open In Colab\"/></a>"
      ]
    },
    {
      "cell_type": "markdown",
      "source": [
        "# Exemplo teorema da probabilidade total"
      ],
      "metadata": {
        "id": "x24Swga_-bQX"
      },
      "id": "x24Swga_-bQX"
    },
    {
      "cell_type": "code",
      "execution_count": null,
      "metadata": {
        "id": "wRD-oW4W-C-U"
      },
      "outputs": [],
      "source": [
        "# Aula prática 02 - Teorema da probabilidade total e teorema de bayes\n",
        "\n",
        "# Em um clube de natação, 10% das crianças sabem nadar.\n",
        "# Dentre as que sabem nadar, 50% estudam à tarde.\n",
        "# Dentre as que não sabem nadar, 15% estudam à tarde.\n",
        "# Pergunta: qual o percentual de crianças que estudam à tarde no grupo todo?\n",
        "\n",
        "PA = 0.10  # Probabilidade de saber nadar\n",
        "PAC = 1 - PA  # Probabilidade de não saber nadar\n",
        "PB_dado_A = 0.50  # Probabilidade de estudar à tarde dado que sabe nadar\n",
        "PB_dado_AC = 0.15  # Probabilidade de estudar à tarde dado que não sabe nadar\n",
        "\n",
        "PB = PA * PB_dado_A + PAC * PB_dado_AC  # Probabilidade total de estudar à tarde\n",
        "print(f\"Percentual que estudam à tarde: {PB * 100:.2f}%\")\n"
      ],
      "id": "wRD-oW4W-C-U"
    },
    {
      "cell_type": "markdown",
      "source": [
        "# Exemplo teorema de Bayes"
      ],
      "metadata": {
        "id": "K8wg3ebM-ZbV"
      },
      "id": "K8wg3ebM-ZbV"
    },
    {
      "cell_type": "code",
      "source": [
        "\n",
        "# Empresa: 40% dos homens e 20% das mulheres falam inglês fluentemente.\n",
        "# 80% das pessoas são homens.\n",
        "# Pergunta: qual a probabilidade de um aluno fluente em inglês ser homem?\n",
        "\n",
        "PA = 0.80  # Probabilidade de homem\n",
        "PAC = 1 - PA  # Probabilidade de mulher\n",
        "PB_dado_A = 0.40  # Probabilidade de falar inglês dado homem\n",
        "PB_dado_AC = 0.20  # Probabilidade de falar inglês dado mulher\n",
        "\n",
        "PB = PA * PB_dado_A + PAC * PB_dado_AC  # Probabilidade total de falar inglês\n",
        "PA_inter_B = PA * PB_dado_A  # Probabilidade de ser homem e falar inglês\n",
        "\n",
        "bayes = PA_inter_B / PB  # Probabilidade de ser homem dado que fala inglês\n",
        "print(f\"Probabilidade de ser homem dado que fala inglês: {bayes * 100:.2f}%\")\n"
      ],
      "metadata": {
        "id": "WCk26e9K-YCd"
      },
      "id": "WCk26e9K-YCd",
      "execution_count": null,
      "outputs": []
    },
    {
      "cell_type": "markdown",
      "source": [
        "# Segunda forma (mesmo cálculo)"
      ],
      "metadata": {
        "id": "xiKIMJb1-mPY"
      },
      "id": "xiKIMJb1-mPY"
    },
    {
      "cell_type": "code",
      "source": [
        "PA_inter_B = 0.80 * 0.40\n",
        "PAC_inter_B = 0.20 * 0.20\n",
        "PB = PA_inter_B + PAC_inter_B\n",
        "bayes = PA_inter_B / PB\n",
        "print(f\"Probabilidade (segunda forma): {bayes * 100:.2f}%\")"
      ],
      "metadata": {
        "id": "qgBmTpz1-lXA"
      },
      "id": "qgBmTpz1-lXA",
      "execution_count": null,
      "outputs": []
    }
  ],
  "metadata": {
    "kernelspec": {
      "display_name": "Python 3",
      "language": "python",
      "name": "python3"
    },
    "language_info": {
      "name": "python",
      "version": "3.8.10",
      "mimetype": "text/x-python",
      "codemirror_mode": {
        "name": "ipython",
        "version": 3
      },
      "pygments_lexer": "ipython3",
      "nbconvert_exporter": "python",
      "file_extension": ".py"
    },
    "colab": {
      "provenance": [],
      "include_colab_link": true
    }
  },
  "nbformat": 4,
  "nbformat_minor": 5
}