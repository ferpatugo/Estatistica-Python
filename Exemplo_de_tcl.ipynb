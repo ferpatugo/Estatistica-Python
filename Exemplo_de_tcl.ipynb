{
  "nbformat": 4,
  "nbformat_minor": 0,
  "metadata": {
    "colab": {
      "provenance": [],
      "authorship_tag": "ABX9TyP3o+bD5DnYavhVuNXP/cvJ",
      "include_colab_link": true
    },
    "kernelspec": {
      "name": "python3",
      "display_name": "Python 3"
    },
    "language_info": {
      "name": "python"
    }
  },
  "cells": [
    {
      "cell_type": "markdown",
      "metadata": {
        "id": "view-in-github",
        "colab_type": "text"
      },
      "source": [
        "<a href=\"https://colab.research.google.com/github/ferpatugo/Estatistica-Python/blob/main/Exemplo_de_tcl.ipynb\" target=\"_parent\"><img src=\"https://colab.research.google.com/assets/colab-badge.svg\" alt=\"Open In Colab\"/></a>"
      ]
    },
    {
      "cell_type": "code",
      "execution_count": null,
      "metadata": {
        "id": "EiCXHLwN2Ahr"
      },
      "outputs": [],
      "source": [
        "import numpy as np\n",
        "import matplotlib.pyplot as plt\n",
        "from scipy.stats import gaussian_kde\n",
        "\n",
        "# Parâmetros\n",
        "num_amostras = 1000  # Número de médias amostrais\n",
        "ns = [5, 15, 30]  # Diferentes tamanhos de amostras\n",
        "\n",
        "# População original - Exponencial (não normal)\n",
        "populacao = np.random.exponential(scale=1.0, size=100000)\n",
        "\n",
        "plt.figure(figsize=(20, 5))\n",
        "\n",
        "# Função para plotar histograma + KDE\n",
        "def plot_hist_kde(data, subplot_index, title, color):\n",
        "    plt.subplot(1, 4, subplot_index)\n",
        "    plt.hist(data, bins=50, density=True, alpha=0.5, color=color, edgecolor='black')\n",
        "    kde = gaussian_kde(data)\n",
        "    x = np.linspace(min(data), max(data), 200)\n",
        "    plt.plot(x, kde(x), color='red')\n",
        "    plt.title(title)\n",
        "    plt.xlabel('Valor')\n",
        "    plt.ylabel('Densidade')\n",
        "\n",
        "# Plotar distribuição da população\n",
        "plot_hist_kde(populacao, 1, 'Distribuição da População\\n(Exponencial)', 'skyblue')\n",
        "\n",
        "# Plotar distribuições das médias amostrais para diferentes n\n",
        "for i, n in enumerate(ns, 2):\n",
        "    medias_amostrais = [np.mean(np.random.choice(populacao, n, replace=True)) for _ in range(num_amostras)]\n",
        "    plot_hist_kde(medias_amostrais, i, f'Médias Amostrais (n={n})', 'orange')\n",
        "\n",
        "plt.tight_layout()\n",
        "plt.show()\n"
      ]
    }
  ]
}