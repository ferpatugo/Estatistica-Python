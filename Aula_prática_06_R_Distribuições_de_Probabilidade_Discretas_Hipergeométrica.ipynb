{
  "cells": [
    {
      "cell_type": "markdown",
      "metadata": {
        "id": "view-in-github",
        "colab_type": "text"
      },
      "source": [
        "<a href=\"https://colab.research.google.com/github/ferpatugo/Estatistica-Python/blob/main/Aula_pr%C3%A1tica_06_R_Distribui%C3%A7%C3%B5es_de_Probabilidade_Discretas_Hipergeom%C3%A9trica.ipynb\" target=\"_parent\"><img src=\"https://colab.research.google.com/assets/colab-badge.svg\" alt=\"Open In Colab\"/></a>"
      ]
    },
    {
      "cell_type": "code",
      "source": [
        "# Aula prática 06 - Python - Distribuições de Probabilidade Discretas - Hipergeométrica\n",
        "import math\n",
        "from math import factorial\n",
        "from scipy.stats import hypergeom"
      ],
      "metadata": {
        "id": "wNzYyCxMNFoq"
      },
      "id": "wNzYyCxMNFoq",
      "execution_count": null,
      "outputs": []
    },
    {
      "cell_type": "markdown",
      "source": [
        "### Em uma eleição, suponha que 300 dos 1000 habitantes de um município são eleitores de um candidato A. Toma-se uma amostra de 10 eleitores.Qual a probabilidade de que exatamente 5 deles pretendam votar no candidato A?\n"
      ],
      "metadata": {
        "id": "-IIVZOGXNI_B"
      },
      "id": "-IIVZOGXNI_B"
    },
    {
      "cell_type": "code",
      "execution_count": null,
      "metadata": {
        "id": "tiW0KhLENDPr"
      },
      "outputs": [],
      "source": [
        "# Dados do problema\n",
        "M = 1000   # Total de habitantes (população)\n",
        "n = 300    # Número de habitantes que são eleitores do candidato A (sucessos na população)\n",
        "N = 10     # Tamanho da amostra\n",
        "k = 5      # Número de sucessos desejado na amostra"
      ],
      "id": "tiW0KhLENDPr"
    },
    {
      "cell_type": "markdown",
      "source": [
        "# Usando CDF para verificar: P(X=k) = P(X<=k) - P(X<=k-1)"
      ],
      "metadata": {
        "id": "wcDWWJ4UNYf_"
      },
      "id": "wcDWWJ4UNYf_"
    },
    {
      "cell_type": "code",
      "source": [
        "\n",
        "prob_cdf = hypergeom.cdf(k=k, M=M, n=n, N=N) - hypergeom.cdf(k=k-1, M=M, n=n, N=N)\n",
        "print(f'P(X={k}) usando hypergeom.cdf: {prob_cdf:.6e}')"
      ],
      "metadata": {
        "id": "wUud1PMcNW_u"
      },
      "id": "wUud1PMcNW_u",
      "execution_count": null,
      "outputs": []
    },
    {
      "cell_type": "markdown",
      "source": [
        "# Usando PMF da Distribuição Hipergeométrica: P(X=k)"
      ],
      "metadata": {
        "id": "QOpMad2xNb20"
      },
      "id": "QOpMad2xNb20"
    },
    {
      "cell_type": "code",
      "source": [
        "prob_pmf = hypergeom.pmf(k=k, M=M, n=n, N=N)\n",
        "print(f'P(X={k}) usando hypergeom.pmf: {prob_pmf:.6e}')"
      ],
      "metadata": {
        "id": "lWmYybltNbOn"
      },
      "id": "lWmYybltNbOn",
      "execution_count": null,
      "outputs": []
    },
    {
      "cell_type": "code",
      "source": [
        "# Função para combinação (C(n, x))\n",
        "def combinacao(n, x):\n",
        "    return factorial(n) // factorial(x) // factorial(n - x)\n",
        "\n",
        "# Calculando manualmente (fórmula da distribuição hipergeométrica)\n",
        "prob_manual = combinacao(n, k) * combinacao(M - n, N - k) / combinacao(M, N)\n",
        "print(f'P(X={k}) cálculo manual: {prob_manual:.6e}')"
      ],
      "metadata": {
        "id": "Y_aIbbKyNgl3"
      },
      "id": "Y_aIbbKyNgl3",
      "execution_count": null,
      "outputs": []
    }
  ],
  "metadata": {
    "kernelspec": {
      "display_name": "Python 3",
      "language": "python",
      "name": "python3"
    },
    "language_info": {
      "name": "python",
      "version": "3.8.10",
      "mimetype": "text/x-python",
      "codemirror_mode": {
        "name": "ipython",
        "version": 3
      },
      "pygments_lexer": "ipython3",
      "nbconvert_exporter": "python",
      "file_extension": ".py"
    },
    "colab": {
      "provenance": [],
      "include_colab_link": true
    }
  },
  "nbformat": 4,
  "nbformat_minor": 5
}