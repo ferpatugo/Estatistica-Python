{
  "cells": [
    {
      "cell_type": "markdown",
      "metadata": {
        "id": "view-in-github",
        "colab_type": "text"
      },
      "source": [
        "<a href=\"https://colab.research.google.com/github/ferpatugo/Estatistica-Python/blob/main/Aula_pr%C3%A1tica_04_R_Distribui%C3%A7%C3%B5es_de_Probabilidade_Discretas_Poisson.ipynb\" target=\"_parent\"><img src=\"https://colab.research.google.com/assets/colab-badge.svg\" alt=\"Open In Colab\"/></a>"
      ]
    },
    {
      "cell_type": "code",
      "source": [
        "# Aula prática 04 - Python - Distribuições de Probabilidade Discretas - Poisson\n",
        "import math\n",
        "from scipy.stats import poisson"
      ],
      "metadata": {
        "id": "QsOutPsmFES6"
      },
      "id": "QsOutPsmFES6",
      "execution_count": null,
      "outputs": []
    },
    {
      "cell_type": "code",
      "source": [
        "### O número de acidentes que acontecem na ponte Rio Niterói segue uma distribuição de Poisson com média 3 por hora.\n",
        "\n",
        "### a) Calcule a probabilidade de 2 acidentes em uma hora.\n",
        "\n",
        "### b) Calcule a probabilidade de pelo menos 2 acidentes em 2 horas."
      ],
      "metadata": {
        "id": "bEzNtotsFJ-O"
      },
      "id": "bEzNtotsFJ-O",
      "execution_count": null,
      "outputs": []
    },
    {
      "cell_type": "markdown",
      "source": [
        "# a) Probabilidade de 2 acidentes em 1 hora (lambda = 3)"
      ],
      "metadata": {
        "id": "XjSX1s-8Fhp7"
      },
      "id": "XjSX1s-8Fhp7"
    },
    {
      "cell_type": "code",
      "source": [
        "# Dados do problema\n",
        "lamb_hour = 3  # Média de acidentes por hora\n",
        "\n",
        "\n",
        "prob_2_accidents_1h = poisson.pmf(2, lamb_hour)\n",
        "print(f'P(X=2) em 1 hora: {prob_2_accidents_1h:.6f}')\n"
      ],
      "metadata": {
        "id": "V2LkwdN0FHk1"
      },
      "id": "V2LkwdN0FHk1",
      "execution_count": null,
      "outputs": []
    },
    {
      "cell_type": "code",
      "source": [
        "# Verificação usando função acumulada\n",
        "prob_2_accidents_1h_cdf = poisson.cdf(2, lamb_hour) - poisson.cdf(1, lamb_hour)\n",
        "print(f'P(X=2) usando cdf: {prob_2_accidents_1h_cdf:.6f}')"
      ],
      "metadata": {
        "id": "LZTB5Bq9FRoj"
      },
      "id": "LZTB5Bq9FRoj",
      "execution_count": null,
      "outputs": []
    },
    {
      "cell_type": "code",
      "source": [],
      "metadata": {
        "id": "iXK8dNjSFkCm"
      },
      "id": "iXK8dNjSFkCm",
      "execution_count": null,
      "outputs": []
    },
    {
      "cell_type": "code",
      "source": [
        "# Cálculo manual da PMF de Poisson para X=2\n",
        "prob_manual = (lamb_hour ** 2) * math.exp(-lamb_hour) / math.factorial(2)\n",
        "print(f'P(X=2) cálculo manual: {prob_manual:.6f}')"
      ],
      "metadata": {
        "id": "3c-nCPZ4FaMQ"
      },
      "id": "3c-nCPZ4FaMQ",
      "execution_count": null,
      "outputs": []
    },
    {
      "cell_type": "markdown",
      "source": [
        "# b) Probabilidade de pelo menos 2 acidentes em 2 horas"
      ],
      "metadata": {
        "id": "Kiv-js-qFTZu"
      },
      "id": "Kiv-js-qFTZu"
    },
    {
      "cell_type": "code",
      "execution_count": null,
      "metadata": {
        "id": "QRlER6FaFCmz"
      },
      "outputs": [],
      "source": [
        "\n",
        "lamb_2hours = lamb_hour * 2  # Ajuste do lambda proporcional ao tempo\n",
        "# P(X >= 2) = 1 - P(X < 2) = 1 - P(X <= 1)\n",
        "prob_at_least_2_2h = 1 - poisson.cdf(1, lamb_2hours)\n",
        "print(f'P(X>=2) em 2 horas: {prob_at_least_2_2h:.6f}')\n",
        "\n",
        "# Verificação somando complementares de PMF para 0 e 1 acidentes\n",
        "prob_at_least_2_2h_alt = 1 - (poisson.pmf(0, lamb_2hours) + poisson.pmf(1, lamb_2hours))\n",
        "print(f'P(X>=2) em 2 horas verificação alternativa: {prob_at_least_2_2h_alt:.6f}')\n"
      ],
      "id": "QRlER6FaFCmz"
    }
  ],
  "metadata": {
    "kernelspec": {
      "display_name": "Python 3",
      "language": "python",
      "name": "python3"
    },
    "language_info": {
      "name": "python",
      "version": "3.8.10",
      "mimetype": "text/x-python",
      "codemirror_mode": {
        "name": "ipython",
        "version": 3
      },
      "pygments_lexer": "ipython3",
      "nbconvert_exporter": "python",
      "file_extension": ".py"
    },
    "colab": {
      "provenance": [],
      "include_colab_link": true
    }
  },
  "nbformat": 4,
  "nbformat_minor": 5
}