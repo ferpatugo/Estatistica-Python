{
  "cells": [
    {
      "cell_type": "markdown",
      "metadata": {
        "id": "view-in-github",
        "colab_type": "text"
      },
      "source": [
        "<a href=\"https://colab.research.google.com/github/ferpatugo/Estatistica-Python/blob/main/Aula_pr%C3%A1tica_02_Medidas_de_tend%C3%AAncia_central.ipynb\" target=\"_parent\"><img src=\"https://colab.research.google.com/assets/colab-badge.svg\" alt=\"Open In Colab\"/></a>"
      ]
    },
    {
      "cell_type": "markdown",
      "source": [
        "# Importanto biblibotecas"
      ],
      "metadata": {
        "id": "tFaEV_AOjIFK"
      },
      "id": "tFaEV_AOjIFK"
    },
    {
      "cell_type": "code",
      "execution_count": 13,
      "metadata": {
        "id": "4JF0JAGCjEK3"
      },
      "outputs": [],
      "source": [
        "import numpy as np\n",
        "import pandas as pd\n",
        "from scipy.stats import skew, kurtosis, mode\n",
        "import matplotlib.pyplot as plt\n"
      ],
      "id": "4JF0JAGCjEK3"
    },
    {
      "cell_type": "markdown",
      "source": [
        "# Carregando o dado das empresas"
      ],
      "metadata": {
        "id": "8x3pIAMyjbiZ"
      },
      "id": "8x3pIAMyjbiZ"
    },
    {
      "cell_type": "code",
      "execution_count": 4,
      "metadata": {
        "id": "K3y6E6g6jEK4"
      },
      "outputs": [],
      "source": [
        "a = np.array([2000, 3000, 4000, 9000])\n",
        "b = np.array([2000, 3000, 3000, 3000, 3000, 3000, 4000, 7000, 9000])\n",
        "c = np.array([2000, 3000, 4000, 6000, 7000, 7000, 8000, 9000])"
      ],
      "id": "K3y6E6g6jEK4"
    },
    {
      "cell_type": "markdown",
      "source": [
        "# Criando função para calcular a Moda"
      ],
      "metadata": {
        "id": "GLrxeOILkAUv"
      },
      "id": "GLrxeOILkAUv"
    },
    {
      "cell_type": "code",
      "execution_count": 9,
      "metadata": {
        "id": "yO5LB39rjEK4"
      },
      "outputs": [],
      "source": [
        "def calculate_mode(array):\n",
        "    modes = mode(array)\n",
        "    # Verifica se count é array ou escalar para evitar erro de indexação\n",
        "    count = modes.count if np.isscalar(modes.count) else modes.count[0]\n",
        "    if count > 1:\n",
        "        return modes.mode if np.isscalar(modes.mode) else modes.mode[0]\n",
        "    else:\n",
        "        counts = np.bincount(array)\n",
        "        if max(counts) == 1:\n",
        "            return None\n",
        "        else:\n",
        "            return modes.mode if np.isscalar(modes.mode) else modes.mode[0]\n",
        "\n"
      ],
      "id": "yO5LB39rjEK4"
    },
    {
      "cell_type": "markdown",
      "source": [
        "# Criando função para calcular as métricas estatísticas"
      ],
      "metadata": {
        "id": "6g4rroUrkGes"
      },
      "id": "6g4rroUrkGes"
    },
    {
      "cell_type": "code",
      "execution_count": 6,
      "metadata": {
        "id": "-3-Vn6WbjEK4"
      },
      "outputs": [],
      "source": [
        "def summary_stats(array):\n",
        "    return {\n",
        "        'min': np.min(array),\n",
        "        '1st_quartile': np.percentile(array, 25),\n",
        "        'median': np.median(array),\n",
        "        'mean': np.mean(array),\n",
        "        '3rd_quartile': np.percentile(array, 75),\n",
        "        'max': np.max(array)\n",
        "    }"
      ],
      "id": "-3-Vn6WbjEK4"
    },
    {
      "cell_type": "code",
      "execution_count": 7,
      "metadata": {
        "id": "AQY_tG6_jEK4"
      },
      "outputs": [],
      "source": [
        "def describe_sample(name, array):\n",
        "    result = {\n",
        "        'sample': name,\n",
        "        'mode': calculate_mode(array),\n",
        "        'median': np.median(array),\n",
        "        'mean': np.mean(array),\n",
        "        'skewness': skew(array),\n",
        "        'kurtosis': kurtosis(array, fisher=True),  # Curtose excessiva\n",
        "        **summary_stats(array)\n",
        "    }\n",
        "    return result\n"
      ],
      "id": "AQY_tG6_jEK4"
    },
    {
      "cell_type": "code",
      "execution_count": 11,
      "metadata": {
        "colab": {
          "base_uri": "https://localhost:8080/"
        },
        "id": "eNIgiRNcjEK4",
        "outputId": "8ccd3261-7238-478d-9048-6a00a8a8460c"
      },
      "outputs": [
        {
          "output_type": "execute_result",
          "data": {
            "text/plain": [
              "{'sample': 'Empresa C',\n",
              " 'mode': np.int64(7000),\n",
              " 'median': np.float64(6500.0),\n",
              " 'mean': np.float64(5750.0),\n",
              " 'skewness': np.float64(-0.2883613024736138),\n",
              " 'kurtosis': np.float64(-1.281807372175981),\n",
              " 'min': np.int64(2000),\n",
              " '1st_quartile': np.float64(3750.0),\n",
              " '3rd_quartile': np.float64(7250.0),\n",
              " 'max': np.int64(9000)}"
            ]
          },
          "metadata": {},
          "execution_count": 11
        }
      ],
      "source": [
        "stats_a = describe_sample('Empresa A', a)\n",
        "stats_b = describe_sample('Empresa B', b)\n",
        "stats_c = describe_sample('Empresa C', c)\n",
        "stats_a\n",
        "stats_b\n",
        "stats_c\n"
      ],
      "id": "eNIgiRNcjEK4"
    },
    {
      "cell_type": "code",
      "execution_count": 12,
      "metadata": {
        "colab": {
          "base_uri": "https://localhost:8080/",
          "height": 143
        },
        "id": "RQFkLxzfjEK5",
        "outputId": "6da95aea-1f6f-4b8a-a207-7f4e76d4d6ad"
      },
      "outputs": [
        {
          "output_type": "execute_result",
          "data": {
            "text/plain": [
              "      sample    mode  median         mean  skewness  kurtosis   min  \\\n",
              "0  Empresa A     NaN  3500.0  4500.000000  0.922073 -0.839477  2000   \n",
              "1  Empresa B  3000.0  3000.0  4111.111111  1.331804  0.270329  2000   \n",
              "2  Empresa C  7000.0  6500.0  5750.000000 -0.288361 -1.281807  2000   \n",
              "\n",
              "   1st_quartile  3rd_quartile   max  \n",
              "0        2750.0        5250.0  9000  \n",
              "1        3000.0        4000.0  9000  \n",
              "2        3750.0        7250.0  9000  "
            ],
            "text/html": [
              "\n",
              "  <div id=\"df-0c6769aa-d94d-46ca-b25a-46b0a9043159\" class=\"colab-df-container\">\n",
              "    <div>\n",
              "<style scoped>\n",
              "    .dataframe tbody tr th:only-of-type {\n",
              "        vertical-align: middle;\n",
              "    }\n",
              "\n",
              "    .dataframe tbody tr th {\n",
              "        vertical-align: top;\n",
              "    }\n",
              "\n",
              "    .dataframe thead th {\n",
              "        text-align: right;\n",
              "    }\n",
              "</style>\n",
              "<table border=\"1\" class=\"dataframe\">\n",
              "  <thead>\n",
              "    <tr style=\"text-align: right;\">\n",
              "      <th></th>\n",
              "      <th>sample</th>\n",
              "      <th>mode</th>\n",
              "      <th>median</th>\n",
              "      <th>mean</th>\n",
              "      <th>skewness</th>\n",
              "      <th>kurtosis</th>\n",
              "      <th>min</th>\n",
              "      <th>1st_quartile</th>\n",
              "      <th>3rd_quartile</th>\n",
              "      <th>max</th>\n",
              "    </tr>\n",
              "  </thead>\n",
              "  <tbody>\n",
              "    <tr>\n",
              "      <th>0</th>\n",
              "      <td>Empresa A</td>\n",
              "      <td>NaN</td>\n",
              "      <td>3500.0</td>\n",
              "      <td>4500.000000</td>\n",
              "      <td>0.922073</td>\n",
              "      <td>-0.839477</td>\n",
              "      <td>2000</td>\n",
              "      <td>2750.0</td>\n",
              "      <td>5250.0</td>\n",
              "      <td>9000</td>\n",
              "    </tr>\n",
              "    <tr>\n",
              "      <th>1</th>\n",
              "      <td>Empresa B</td>\n",
              "      <td>3000.0</td>\n",
              "      <td>3000.0</td>\n",
              "      <td>4111.111111</td>\n",
              "      <td>1.331804</td>\n",
              "      <td>0.270329</td>\n",
              "      <td>2000</td>\n",
              "      <td>3000.0</td>\n",
              "      <td>4000.0</td>\n",
              "      <td>9000</td>\n",
              "    </tr>\n",
              "    <tr>\n",
              "      <th>2</th>\n",
              "      <td>Empresa C</td>\n",
              "      <td>7000.0</td>\n",
              "      <td>6500.0</td>\n",
              "      <td>5750.000000</td>\n",
              "      <td>-0.288361</td>\n",
              "      <td>-1.281807</td>\n",
              "      <td>2000</td>\n",
              "      <td>3750.0</td>\n",
              "      <td>7250.0</td>\n",
              "      <td>9000</td>\n",
              "    </tr>\n",
              "  </tbody>\n",
              "</table>\n",
              "</div>\n",
              "    <div class=\"colab-df-buttons\">\n",
              "\n",
              "  <div class=\"colab-df-container\">\n",
              "    <button class=\"colab-df-convert\" onclick=\"convertToInteractive('df-0c6769aa-d94d-46ca-b25a-46b0a9043159')\"\n",
              "            title=\"Convert this dataframe to an interactive table.\"\n",
              "            style=\"display:none;\">\n",
              "\n",
              "  <svg xmlns=\"http://www.w3.org/2000/svg\" height=\"24px\" viewBox=\"0 -960 960 960\">\n",
              "    <path d=\"M120-120v-720h720v720H120Zm60-500h600v-160H180v160Zm220 220h160v-160H400v160Zm0 220h160v-160H400v160ZM180-400h160v-160H180v160Zm440 0h160v-160H620v160ZM180-180h160v-160H180v160Zm440 0h160v-160H620v160Z\"/>\n",
              "  </svg>\n",
              "    </button>\n",
              "\n",
              "  <style>\n",
              "    .colab-df-container {\n",
              "      display:flex;\n",
              "      gap: 12px;\n",
              "    }\n",
              "\n",
              "    .colab-df-convert {\n",
              "      background-color: #E8F0FE;\n",
              "      border: none;\n",
              "      border-radius: 50%;\n",
              "      cursor: pointer;\n",
              "      display: none;\n",
              "      fill: #1967D2;\n",
              "      height: 32px;\n",
              "      padding: 0 0 0 0;\n",
              "      width: 32px;\n",
              "    }\n",
              "\n",
              "    .colab-df-convert:hover {\n",
              "      background-color: #E2EBFA;\n",
              "      box-shadow: 0px 1px 2px rgba(60, 64, 67, 0.3), 0px 1px 3px 1px rgba(60, 64, 67, 0.15);\n",
              "      fill: #174EA6;\n",
              "    }\n",
              "\n",
              "    .colab-df-buttons div {\n",
              "      margin-bottom: 4px;\n",
              "    }\n",
              "\n",
              "    [theme=dark] .colab-df-convert {\n",
              "      background-color: #3B4455;\n",
              "      fill: #D2E3FC;\n",
              "    }\n",
              "\n",
              "    [theme=dark] .colab-df-convert:hover {\n",
              "      background-color: #434B5C;\n",
              "      box-shadow: 0px 1px 3px 1px rgba(0, 0, 0, 0.15);\n",
              "      filter: drop-shadow(0px 1px 2px rgba(0, 0, 0, 0.3));\n",
              "      fill: #FFFFFF;\n",
              "    }\n",
              "  </style>\n",
              "\n",
              "    <script>\n",
              "      const buttonEl =\n",
              "        document.querySelector('#df-0c6769aa-d94d-46ca-b25a-46b0a9043159 button.colab-df-convert');\n",
              "      buttonEl.style.display =\n",
              "        google.colab.kernel.accessAllowed ? 'block' : 'none';\n",
              "\n",
              "      async function convertToInteractive(key) {\n",
              "        const element = document.querySelector('#df-0c6769aa-d94d-46ca-b25a-46b0a9043159');\n",
              "        const dataTable =\n",
              "          await google.colab.kernel.invokeFunction('convertToInteractive',\n",
              "                                                    [key], {});\n",
              "        if (!dataTable) return;\n",
              "\n",
              "        const docLinkHtml = 'Like what you see? Visit the ' +\n",
              "          '<a target=\"_blank\" href=https://colab.research.google.com/notebooks/data_table.ipynb>data table notebook</a>'\n",
              "          + ' to learn more about interactive tables.';\n",
              "        element.innerHTML = '';\n",
              "        dataTable['output_type'] = 'display_data';\n",
              "        await google.colab.output.renderOutput(dataTable, element);\n",
              "        const docLink = document.createElement('div');\n",
              "        docLink.innerHTML = docLinkHtml;\n",
              "        element.appendChild(docLink);\n",
              "      }\n",
              "    </script>\n",
              "  </div>\n",
              "\n",
              "\n",
              "    <div id=\"df-b49f007e-4945-496c-a8a8-9c0097c11ce1\">\n",
              "      <button class=\"colab-df-quickchart\" onclick=\"quickchart('df-b49f007e-4945-496c-a8a8-9c0097c11ce1')\"\n",
              "                title=\"Suggest charts\"\n",
              "                style=\"display:none;\">\n",
              "\n",
              "<svg xmlns=\"http://www.w3.org/2000/svg\" height=\"24px\"viewBox=\"0 0 24 24\"\n",
              "     width=\"24px\">\n",
              "    <g>\n",
              "        <path d=\"M19 3H5c-1.1 0-2 .9-2 2v14c0 1.1.9 2 2 2h14c1.1 0 2-.9 2-2V5c0-1.1-.9-2-2-2zM9 17H7v-7h2v7zm4 0h-2V7h2v10zm4 0h-2v-4h2v4z\"/>\n",
              "    </g>\n",
              "</svg>\n",
              "      </button>\n",
              "\n",
              "<style>\n",
              "  .colab-df-quickchart {\n",
              "      --bg-color: #E8F0FE;\n",
              "      --fill-color: #1967D2;\n",
              "      --hover-bg-color: #E2EBFA;\n",
              "      --hover-fill-color: #174EA6;\n",
              "      --disabled-fill-color: #AAA;\n",
              "      --disabled-bg-color: #DDD;\n",
              "  }\n",
              "\n",
              "  [theme=dark] .colab-df-quickchart {\n",
              "      --bg-color: #3B4455;\n",
              "      --fill-color: #D2E3FC;\n",
              "      --hover-bg-color: #434B5C;\n",
              "      --hover-fill-color: #FFFFFF;\n",
              "      --disabled-bg-color: #3B4455;\n",
              "      --disabled-fill-color: #666;\n",
              "  }\n",
              "\n",
              "  .colab-df-quickchart {\n",
              "    background-color: var(--bg-color);\n",
              "    border: none;\n",
              "    border-radius: 50%;\n",
              "    cursor: pointer;\n",
              "    display: none;\n",
              "    fill: var(--fill-color);\n",
              "    height: 32px;\n",
              "    padding: 0;\n",
              "    width: 32px;\n",
              "  }\n",
              "\n",
              "  .colab-df-quickchart:hover {\n",
              "    background-color: var(--hover-bg-color);\n",
              "    box-shadow: 0 1px 2px rgba(60, 64, 67, 0.3), 0 1px 3px 1px rgba(60, 64, 67, 0.15);\n",
              "    fill: var(--button-hover-fill-color);\n",
              "  }\n",
              "\n",
              "  .colab-df-quickchart-complete:disabled,\n",
              "  .colab-df-quickchart-complete:disabled:hover {\n",
              "    background-color: var(--disabled-bg-color);\n",
              "    fill: var(--disabled-fill-color);\n",
              "    box-shadow: none;\n",
              "  }\n",
              "\n",
              "  .colab-df-spinner {\n",
              "    border: 2px solid var(--fill-color);\n",
              "    border-color: transparent;\n",
              "    border-bottom-color: var(--fill-color);\n",
              "    animation:\n",
              "      spin 1s steps(1) infinite;\n",
              "  }\n",
              "\n",
              "  @keyframes spin {\n",
              "    0% {\n",
              "      border-color: transparent;\n",
              "      border-bottom-color: var(--fill-color);\n",
              "      border-left-color: var(--fill-color);\n",
              "    }\n",
              "    20% {\n",
              "      border-color: transparent;\n",
              "      border-left-color: var(--fill-color);\n",
              "      border-top-color: var(--fill-color);\n",
              "    }\n",
              "    30% {\n",
              "      border-color: transparent;\n",
              "      border-left-color: var(--fill-color);\n",
              "      border-top-color: var(--fill-color);\n",
              "      border-right-color: var(--fill-color);\n",
              "    }\n",
              "    40% {\n",
              "      border-color: transparent;\n",
              "      border-right-color: var(--fill-color);\n",
              "      border-top-color: var(--fill-color);\n",
              "    }\n",
              "    60% {\n",
              "      border-color: transparent;\n",
              "      border-right-color: var(--fill-color);\n",
              "    }\n",
              "    80% {\n",
              "      border-color: transparent;\n",
              "      border-right-color: var(--fill-color);\n",
              "      border-bottom-color: var(--fill-color);\n",
              "    }\n",
              "    90% {\n",
              "      border-color: transparent;\n",
              "      border-bottom-color: var(--fill-color);\n",
              "    }\n",
              "  }\n",
              "</style>\n",
              "\n",
              "      <script>\n",
              "        async function quickchart(key) {\n",
              "          const quickchartButtonEl =\n",
              "            document.querySelector('#' + key + ' button');\n",
              "          quickchartButtonEl.disabled = true;  // To prevent multiple clicks.\n",
              "          quickchartButtonEl.classList.add('colab-df-spinner');\n",
              "          try {\n",
              "            const charts = await google.colab.kernel.invokeFunction(\n",
              "                'suggestCharts', [key], {});\n",
              "          } catch (error) {\n",
              "            console.error('Error during call to suggestCharts:', error);\n",
              "          }\n",
              "          quickchartButtonEl.classList.remove('colab-df-spinner');\n",
              "          quickchartButtonEl.classList.add('colab-df-quickchart-complete');\n",
              "        }\n",
              "        (() => {\n",
              "          let quickchartButtonEl =\n",
              "            document.querySelector('#df-b49f007e-4945-496c-a8a8-9c0097c11ce1 button');\n",
              "          quickchartButtonEl.style.display =\n",
              "            google.colab.kernel.accessAllowed ? 'block' : 'none';\n",
              "        })();\n",
              "      </script>\n",
              "    </div>\n",
              "\n",
              "  <div id=\"id_a3d21f4f-34c0-4b90-b0e9-24d5eaee2148\">\n",
              "    <style>\n",
              "      .colab-df-generate {\n",
              "        background-color: #E8F0FE;\n",
              "        border: none;\n",
              "        border-radius: 50%;\n",
              "        cursor: pointer;\n",
              "        display: none;\n",
              "        fill: #1967D2;\n",
              "        height: 32px;\n",
              "        padding: 0 0 0 0;\n",
              "        width: 32px;\n",
              "      }\n",
              "\n",
              "      .colab-df-generate:hover {\n",
              "        background-color: #E2EBFA;\n",
              "        box-shadow: 0px 1px 2px rgba(60, 64, 67, 0.3), 0px 1px 3px 1px rgba(60, 64, 67, 0.15);\n",
              "        fill: #174EA6;\n",
              "      }\n",
              "\n",
              "      [theme=dark] .colab-df-generate {\n",
              "        background-color: #3B4455;\n",
              "        fill: #D2E3FC;\n",
              "      }\n",
              "\n",
              "      [theme=dark] .colab-df-generate:hover {\n",
              "        background-color: #434B5C;\n",
              "        box-shadow: 0px 1px 3px 1px rgba(0, 0, 0, 0.15);\n",
              "        filter: drop-shadow(0px 1px 2px rgba(0, 0, 0, 0.3));\n",
              "        fill: #FFFFFF;\n",
              "      }\n",
              "    </style>\n",
              "    <button class=\"colab-df-generate\" onclick=\"generateWithVariable('df_stats')\"\n",
              "            title=\"Generate code using this dataframe.\"\n",
              "            style=\"display:none;\">\n",
              "\n",
              "  <svg xmlns=\"http://www.w3.org/2000/svg\" height=\"24px\"viewBox=\"0 0 24 24\"\n",
              "       width=\"24px\">\n",
              "    <path d=\"M7,19H8.4L18.45,9,17,7.55,7,17.6ZM5,21V16.75L18.45,3.32a2,2,0,0,1,2.83,0l1.4,1.43a1.91,1.91,0,0,1,.58,1.4,1.91,1.91,0,0,1-.58,1.4L9.25,21ZM18.45,9,17,7.55Zm-12,3A5.31,5.31,0,0,0,4.9,8.1,5.31,5.31,0,0,0,1,6.5,5.31,5.31,0,0,0,4.9,4.9,5.31,5.31,0,0,0,6.5,1,5.31,5.31,0,0,0,8.1,4.9,5.31,5.31,0,0,0,12,6.5,5.46,5.46,0,0,0,6.5,12Z\"/>\n",
              "  </svg>\n",
              "    </button>\n",
              "    <script>\n",
              "      (() => {\n",
              "      const buttonEl =\n",
              "        document.querySelector('#id_a3d21f4f-34c0-4b90-b0e9-24d5eaee2148 button.colab-df-generate');\n",
              "      buttonEl.style.display =\n",
              "        google.colab.kernel.accessAllowed ? 'block' : 'none';\n",
              "\n",
              "      buttonEl.onclick = () => {\n",
              "        google.colab.notebook.generateWithVariable('df_stats');\n",
              "      }\n",
              "      })();\n",
              "    </script>\n",
              "  </div>\n",
              "\n",
              "    </div>\n",
              "  </div>\n"
            ],
            "application/vnd.google.colaboratory.intrinsic+json": {
              "type": "dataframe",
              "variable_name": "df_stats",
              "summary": "{\n  \"name\": \"df_stats\",\n  \"rows\": 3,\n  \"fields\": [\n    {\n      \"column\": \"sample\",\n      \"properties\": {\n        \"dtype\": \"string\",\n        \"num_unique_values\": 3,\n        \"samples\": [\n          \"Empresa A\",\n          \"Empresa B\",\n          \"Empresa C\"\n        ],\n        \"semantic_type\": \"\",\n        \"description\": \"\"\n      }\n    },\n    {\n      \"column\": \"mode\",\n      \"properties\": {\n        \"dtype\": \"number\",\n        \"std\": 2828.42712474619,\n        \"min\": 3000.0,\n        \"max\": 7000.0,\n        \"num_unique_values\": 2,\n        \"samples\": [\n          7000.0,\n          3000.0\n        ],\n        \"semantic_type\": \"\",\n        \"description\": \"\"\n      }\n    },\n    {\n      \"column\": \"median\",\n      \"properties\": {\n        \"dtype\": \"number\",\n        \"std\": 1892.9694486000913,\n        \"min\": 3000.0,\n        \"max\": 6500.0,\n        \"num_unique_values\": 3,\n        \"samples\": [\n          3500.0,\n          3000.0\n        ],\n        \"semantic_type\": \"\",\n        \"description\": \"\"\n      }\n    },\n    {\n      \"column\": \"mean\",\n      \"properties\": {\n        \"dtype\": \"number\",\n        \"std\": 856.3188033694665,\n        \"min\": 4111.111111111111,\n        \"max\": 5750.0,\n        \"num_unique_values\": 3,\n        \"samples\": [\n          4500.0,\n          4111.111111111111\n        ],\n        \"semantic_type\": \"\",\n        \"description\": \"\"\n      }\n    },\n    {\n      \"column\": \"skewness\",\n      \"properties\": {\n        \"dtype\": \"number\",\n        \"std\": 0.8424140128320144,\n        \"min\": -0.2883613024736138,\n        \"max\": 1.3318043122924363,\n        \"num_unique_values\": 3,\n        \"samples\": [\n          0.9220734033619128,\n          1.3318043122924363\n        ],\n        \"semantic_type\": \"\",\n        \"description\": \"\"\n      }\n    },\n    {\n      \"column\": \"kurtosis\",\n      \"properties\": {\n        \"dtype\": \"number\",\n        \"std\": 0.7996306167641949,\n        \"min\": -1.281807372175981,\n        \"max\": 0.2703294048162359,\n        \"num_unique_values\": 3,\n        \"samples\": [\n          -0.839476813317479,\n          0.2703294048162359\n        ],\n        \"semantic_type\": \"\",\n        \"description\": \"\"\n      }\n    },\n    {\n      \"column\": \"min\",\n      \"properties\": {\n        \"dtype\": \"number\",\n        \"std\": 0,\n        \"min\": 2000,\n        \"max\": 2000,\n        \"num_unique_values\": 1,\n        \"samples\": [\n          2000\n        ],\n        \"semantic_type\": \"\",\n        \"description\": \"\"\n      }\n    },\n    {\n      \"column\": \"1st_quartile\",\n      \"properties\": {\n        \"dtype\": \"number\",\n        \"std\": 520.4164998665332,\n        \"min\": 2750.0,\n        \"max\": 3750.0,\n        \"num_unique_values\": 3,\n        \"samples\": [\n          2750.0\n        ],\n        \"semantic_type\": \"\",\n        \"description\": \"\"\n      }\n    },\n    {\n      \"column\": \"3rd_quartile\",\n      \"properties\": {\n        \"dtype\": \"number\",\n        \"std\": 1639.3596310755001,\n        \"min\": 4000.0,\n        \"max\": 7250.0,\n        \"num_unique_values\": 3,\n        \"samples\": [\n          5250.0\n        ],\n        \"semantic_type\": \"\",\n        \"description\": \"\"\n      }\n    },\n    {\n      \"column\": \"max\",\n      \"properties\": {\n        \"dtype\": \"number\",\n        \"std\": 0,\n        \"min\": 9000,\n        \"max\": 9000,\n        \"num_unique_values\": 1,\n        \"samples\": [\n          9000\n        ],\n        \"semantic_type\": \"\",\n        \"description\": \"\"\n      }\n    }\n  ]\n}"
            }
          },
          "metadata": {},
          "execution_count": 12
        }
      ],
      "source": [
        "df_stats = pd.DataFrame([stats_a, stats_b, stats_c])\n",
        "df_stats"
      ],
      "id": "RQFkLxzfjEK5"
    },
    {
      "cell_type": "markdown",
      "source": [
        "# Histograma Empresa A\n"
      ],
      "metadata": {
        "id": "tBBXNrEfmYVJ"
      },
      "id": "tBBXNrEfmYVJ"
    },
    {
      "cell_type": "code",
      "source": [
        "plt.figure(figsize=(6,4))\n",
        "plt.hist(a, bins=10, color='skyblue', edgecolor='black')\n",
        "plt.title('Histograma - Empresa A')\n",
        "plt.xlabel('Valor')\n",
        "plt.ylabel('Frequência')\n",
        "plt.grid(True)\n",
        "plt.show()\n"
      ],
      "metadata": {
        "colab": {
          "base_uri": "https://localhost:8080/",
          "height": 410
        },
        "id": "j4ErcK_AmQcl",
        "outputId": "450321e6-031e-4396-b7eb-fe50a0d61130"
      },
      "id": "j4ErcK_AmQcl",
      "execution_count": 17,
      "outputs": [
        {
          "output_type": "display_data",
          "data": {
            "text/plain": [
              "<Figure size 600x400 with 1 Axes>"
            ],
            "image/png": "[encoded data removed]"
          },
          "metadata": {}
        }
      ]
    },
    {
      "cell_type": "markdown",
      "source": [
        "# Histograma Empresa B\n"
      ],
      "metadata": {
        "id": "SitVfnMomhp1"
      },
      "id": "SitVfnMomhp1"
    },
    {
      "cell_type": "code",
      "source": [
        "plt.figure(figsize=(6,4))\n",
        "plt.hist(b, bins=10, color='salmon', edgecolor='black')\n",
        "plt.title('Histograma - Empresa B')\n",
        "plt.xlabel('Valor')\n",
        "plt.ylabel('Frequência')\n",
        "plt.grid(True)\n",
        "plt.show()\n"
      ],
      "metadata": {
        "colab": {
          "base_uri": "https://localhost:8080/",
          "height": 410
        },
        "id": "VIeItKTgmc76",
        "outputId": "ab80a1ff-4816-4dbe-df1c-0d9cca5e62f4"
      },
      "id": "VIeItKTgmc76",
      "execution_count": 18,
      "outputs": [
        {
          "output_type": "display_data",
          "data": {
            "text/plain": [
              "<Figure size 600x400 with 1 Axes>"
            ],
            "image/png": "[encoded data removed]"
          },
          "metadata": {}
        }
      ]
    },
    {
      "cell_type": "markdown",
      "source": [
        "# Histograma Empresa C"
      ],
      "metadata": {
        "id": "Ix3LPCIZmokP"
      },
      "id": "Ix3LPCIZmokP"
    },
    {
      "cell_type": "code",
      "source": [
        "plt.figure(figsize=(6,4))\n",
        "plt.hist(c, bins=10, color='lightgreen', edgecolor='black')\n",
        "plt.title('Histograma - Empresa C')\n",
        "plt.xlabel('Valor')\n",
        "plt.ylabel('Frequência')\n",
        "plt.grid(True)\n",
        "plt.show()\n"
      ],
      "metadata": {
        "colab": {
          "base_uri": "https://localhost:8080/",
          "height": 410
        },
        "id": "ruyjh8klmZws",
        "outputId": "d02214a9-13c0-46ca-f9ea-7ab7268a3577"
      },
      "id": "ruyjh8klmZws",
      "execution_count": 19,
      "outputs": [
        {
          "output_type": "display_data",
          "data": {
            "text/plain": [
              "<Figure size 600x400 with 1 Axes>"
            ],
            "image/png": "[encoded data removed]"
          },
          "metadata": {}
        }
      ]
    }
  ],
  "metadata": {
    "kernelspec": {
      "display_name": "Python 3",
      "name": "python3"
    },
    "language_info": {
      "codemirror_mode": {
        "name": "ipython",
        "version": 3
      },
      "file_extension": ".py",
      "mimetype": "text/x-python",
      "name": "python",
      "nbconvert_exporter": "python",
      "pygments_lexer": "ipython3",
      "version": "3.10.12"
    },
    "colab": {
      "provenance": [],
      "include_colab_link": true
    }
  },
  "nbformat": 4,
  "nbformat_minor": 5
}
