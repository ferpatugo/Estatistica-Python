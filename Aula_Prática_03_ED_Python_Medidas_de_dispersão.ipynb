{
  "cells": [
    {
      "cell_type": "markdown",
      "metadata": {
        "id": "view-in-github",
        "colab_type": "text"
      },
      "source": [
        "<a href=\"https://colab.research.google.com/github/ferpatugo/Estatistica-Python/blob/main/Aula_Pr%C3%A1tica_03_ED_Python_Tipos_de_frequ%C3%AAncia.ipynb\" target=\"_parent\"><img src=\"https://colab.research.google.com/assets/colab-badge.svg\" alt=\"Open In Colab\"/></a>"
      ]
    },
    {
      "cell_type": "markdown",
      "metadata": {
        "id": "t8hoBFZA1Air"
      },
      "source": [
        "# Análise do Banco de Dados Iris em Python\n"
      ],
      "id": "t8hoBFZA1Air"
    },
    {
      "cell_type": "markdown",
      "source": [
        "# Carregando o banco"
      ],
      "metadata": {
        "id": "_XIb6AFj1C6t"
      },
      "id": "_XIb6AFj1C6t"
    },
    {
      "cell_type": "code",
      "metadata": {
        "id": "S5dPG4P51Ais"
      },
      "source": [
        "import pandas as pd\n",
        "import numpy as np\n",
        "import seaborn as sns\n",
        "import matplotlib.pyplot as plt"
      ],
      "id": "S5dPG4P51Ais",
      "execution_count": 2,
      "outputs": []
    },
    {
      "cell_type": "markdown",
      "source": [
        "# Carregar dataset Iris do seaborn\n"
      ],
      "metadata": {
        "id": "rer1ehCg1Lwx"
      },
      "id": "rer1ehCg1Lwx"
    },
    {
      "cell_type": "code",
      "source": [
        "iris = sns.load_dataset('iris')"
      ],
      "metadata": {
        "id": "SuvFz36K1Jzf"
      },
      "id": "SuvFz36K1Jzf",
      "execution_count": 3,
      "outputs": []
    },
    {
      "cell_type": "markdown",
      "source": [
        "# Amostra0: Sepal.Length"
      ],
      "metadata": {
        "id": "3DRqpR8Y1aF-"
      },
      "id": "3DRqpR8Y1aF-"
    },
    {
      "cell_type": "code",
      "source": [
        "a0 = iris['sepal_length']"
      ],
      "metadata": {
        "id": "ndVlKDNT1SrD"
      },
      "id": "ndVlKDNT1SrD",
      "execution_count": 4,
      "outputs": []
    },
    {
      "cell_type": "markdown",
      "source": [
        "# Tamanho das sepalas"
      ],
      "metadata": {
        "id": "E2vW05A91d3W"
      },
      "id": "E2vW05A91d3W"
    },
    {
      "cell_type": "code",
      "source": [
        "length_a0 = len(a0)\n",
        "\n",
        "# Ordenado\n",
        "sorted_a0 = np.sort(a0)\n",
        "\n",
        "# Amplitude amostral\n",
        "h0 = np.ptp(a0)  # peak to peak (max - min)\n",
        "\n",
        "# Variancia amostral (ddof=1)\n",
        "var0 = np.var(a0, ddof=1)\n",
        "\n",
        "# Variancia populacional (ddof=0)\n",
        "var0_pop = np.var(a0, ddof=0)\n",
        "\n",
        "# Desvio padrao amostral\n",
        "sd0 = np.std(a0, ddof=1)\n",
        "\n",
        "# Media e intervalos +/- 2 desvios padrao\n",
        "mean_a0 = np.mean(a0)\n",
        "low_lim_a0 = mean_a0 - 2*sd0\n",
        "high_lim_a0 = mean_a0 + 2*sd0\n",
        "\n",
        "# Coeficiente de variacao\n",
        "cv0 = sd0 / mean_a0 * 100"
      ],
      "metadata": {
        "id": "h8-c10hW1fsb"
      },
      "id": "h8-c10hW1fsb",
      "execution_count": 5,
      "outputs": []
    },
    {
      "cell_type": "markdown",
      "source": [
        "# Tamanho das pétalas"
      ],
      "metadata": {
        "id": "1sLpD59e1rns"
      },
      "id": "1sLpD59e1rns"
    },
    {
      "cell_type": "code",
      "source": [
        "# Amostra1: Petal.Length\n",
        "a1 = iris['petal_length']\n",
        "\n",
        "# Ordenado\n",
        "sorted_a1 = np.sort(a1)\n",
        "\n",
        "# Amplitude amostral\n",
        "h1 = np.ptp(a1)\n",
        "\n",
        "# Variancia amostral\n",
        "var1 = np.var(a1, ddof=1)\n",
        "\n",
        "# Desvio padrao amostral\n",
        "sd1 = np.std(a1, ddof=1)\n",
        "\n",
        "# Media e intervalos +/- 2 desvios\n",
        "mean_a1 = np.mean(a1)\n",
        "low_lim_a1 = mean_a1 - 2*sd1\n",
        "high_lim_a1 = mean_a1 + 2*sd1\n",
        "\n",
        "# Coeficiente de variacao\n",
        "cv1 = sd1 / mean_a1 * 100"
      ],
      "metadata": {
        "id": "gZOpCbkp1YC9"
      },
      "id": "gZOpCbkp1YC9",
      "execution_count": 6,
      "outputs": []
    },
    {
      "cell_type": "code",
      "source": [
        "# Consolidacao para Sepal.Length\n",
        "dados_a0_consolidados = pd.DataFrame({\n",
        "    'amplitude': [h0],\n",
        "    'variancia': [var0],\n",
        "    'desvio_padrao': [sd0],\n",
        "    'media': [mean_a0],\n",
        "    'coeficiente_variacao': [cv0]\n",
        "})\n",
        "\n",
        "# Consolidacao para Petal.Length\n",
        "dados_a1_consolidados = pd.DataFrame({\n",
        "    'amplitude': [h1],\n",
        "    'variancia': [var1],\n",
        "    'desvio_padrao': [sd1],\n",
        "    'media': [mean_a1],\n",
        "    'coeficiente_variacao': [cv1]\n",
        "})\n",
        "\n",
        "# Resumo comparativo (transposto)\n",
        "consolidado_comparativo = pd.concat([dados_a0_consolidados.T, dados_a1_consolidados.T], axis=1)\n",
        "consolidado_comparativo.columns = ['resumo_tamanho_Sepala', 'resumo_tamanho_Petala']\n",
        "\n",
        "consolidado_comparativo\n"
      ],
      "metadata": {
        "colab": {
          "base_uri": "https://localhost:8080/",
          "height": 206
        },
        "id": "SDmqPj6d14LP",
        "outputId": "0babc8fc-c2bb-4c74-e7c5-ba475b96e13e"
      },
      "id": "SDmqPj6d14LP",
      "execution_count": 7,
      "outputs": [
        {
          "output_type": "execute_result",
          "data": {
            "text/plain": [
              "                      resumo_tamanho_Sepala  resumo_tamanho_Petala\n",
              "amplitude                          3.600000               5.900000\n",
              "variancia                          0.685694               3.116278\n",
              "desvio_padrao                      0.828066               1.765298\n",
              "media                              5.843333               3.758000\n",
              "coeficiente_variacao              14.171126              46.974407"
            ],
            "text/html": [
              "\n",
              "  <div id=\"df-04b1cdb7-4c44-4910-9f8e-e11bd60100ab\" class=\"colab-df-container\">\n",
              "    <div>\n",
              "<style scoped>\n",
              "    .dataframe tbody tr th:only-of-type {\n",
              "        vertical-align: middle;\n",
              "    }\n",
              "\n",
              "    .dataframe tbody tr th {\n",
              "        vertical-align: top;\n",
              "    }\n",
              "\n",
              "    .dataframe thead th {\n",
              "        text-align: right;\n",
              "    }\n",
              "</style>\n",
              "<table border=\"1\" class=\"dataframe\">\n",
              "  <thead>\n",
              "    <tr style=\"text-align: right;\">\n",
              "      <th></th>\n",
              "      <th>resumo_tamanho_Sepala</th>\n",
              "      <th>resumo_tamanho_Petala</th>\n",
              "    </tr>\n",
              "  </thead>\n",
              "  <tbody>\n",
              "    <tr>\n",
              "      <th>amplitude</th>\n",
              "      <td>3.600000</td>\n",
              "      <td>5.900000</td>\n",
              "    </tr>\n",
              "    <tr>\n",
              "      <th>variancia</th>\n",
              "      <td>0.685694</td>\n",
              "      <td>3.116278</td>\n",
              "    </tr>\n",
              "    <tr>\n",
              "      <th>desvio_padrao</th>\n",
              "      <td>0.828066</td>\n",
              "      <td>1.765298</td>\n",
              "    </tr>\n",
              "    <tr>\n",
              "      <th>media</th>\n",
              "      <td>5.843333</td>\n",
              "      <td>3.758000</td>\n",
              "    </tr>\n",
              "    <tr>\n",
              "      <th>coeficiente_variacao</th>\n",
              "      <td>14.171126</td>\n",
              "      <td>46.974407</td>\n",
              "    </tr>\n",
              "  </tbody>\n",
              "</table>\n",
              "</div>\n",
              "    <div class=\"colab-df-buttons\">\n",
              "\n",
              "  <div class=\"colab-df-container\">\n",
              "    <button class=\"colab-df-convert\" onclick=\"convertToInteractive('df-04b1cdb7-4c44-4910-9f8e-e11bd60100ab')\"\n",
              "            title=\"Convert this dataframe to an interactive table.\"\n",
              "            style=\"display:none;\">\n",
              "\n",
              "  <svg xmlns=\"http://www.w3.org/2000/svg\" height=\"24px\" viewBox=\"0 -960 960 960\">\n",
              "    <path d=\"M120-120v-720h720v720H120Zm60-500h600v-160H180v160Zm220 220h160v-160H400v160Zm0 220h160v-160H400v160ZM180-400h160v-160H180v160Zm440 0h160v-160H620v160ZM180-180h160v-160H180v160Zm440 0h160v-160H620v160Z\"/>\n",
              "  </svg>\n",
              "    </button>\n",
              "\n",
              "  <style>\n",
              "    .colab-df-container {\n",
              "      display:flex;\n",
              "      gap: 12px;\n",
              "    }\n",
              "\n",
              "    .colab-df-convert {\n",
              "      background-color: #E8F0FE;\n",
              "      border: none;\n",
              "      border-radius: 50%;\n",
              "      cursor: pointer;\n",
              "      display: none;\n",
              "      fill: #1967D2;\n",
              "      height: 32px;\n",
              "      padding: 0 0 0 0;\n",
              "      width: 32px;\n",
              "    }\n",
              "\n",
              "    .colab-df-convert:hover {\n",
              "      background-color: #E2EBFA;\n",
              "      box-shadow: 0px 1px 2px rgba(60, 64, 67, 0.3), 0px 1px 3px 1px rgba(60, 64, 67, 0.15);\n",
              "      fill: #174EA6;\n",
              "    }\n",
              "\n",
              "    .colab-df-buttons div {\n",
              "      margin-bottom: 4px;\n",
              "    }\n",
              "\n",
              "    [theme=dark] .colab-df-convert {\n",
              "      background-color: #3B4455;\n",
              "      fill: #D2E3FC;\n",
              "    }\n",
              "\n",
              "    [theme=dark] .colab-df-convert:hover {\n",
              "      background-color: #434B5C;\n",
              "      box-shadow: 0px 1px 3px 1px rgba(0, 0, 0, 0.15);\n",
              "      filter: drop-shadow(0px 1px 2px rgba(0, 0, 0, 0.3));\n",
              "      fill: #FFFFFF;\n",
              "    }\n",
              "  </style>\n",
              "\n",
              "    <script>\n",
              "      const buttonEl =\n",
              "        document.querySelector('#df-04b1cdb7-4c44-4910-9f8e-e11bd60100ab button.colab-df-convert');\n",
              "      buttonEl.style.display =\n",
              "        google.colab.kernel.accessAllowed ? 'block' : 'none';\n",
              "\n",
              "      async function convertToInteractive(key) {\n",
              "        const element = document.querySelector('#df-04b1cdb7-4c44-4910-9f8e-e11bd60100ab');\n",
              "        const dataTable =\n",
              "          await google.colab.kernel.invokeFunction('convertToInteractive',\n",
              "                                                    [key], {});\n",
              "        if (!dataTable) return;\n",
              "\n",
              "        const docLinkHtml = 'Like what you see? Visit the ' +\n",
              "          '<a target=\"_blank\" href=https://colab.research.google.com/notebooks/data_table.ipynb>data table notebook</a>'\n",
              "          + ' to learn more about interactive tables.';\n",
              "        element.innerHTML = '';\n",
              "        dataTable['output_type'] = 'display_data';\n",
              "        await google.colab.output.renderOutput(dataTable, element);\n",
              "        const docLink = document.createElement('div');\n",
              "        docLink.innerHTML = docLinkHtml;\n",
              "        element.appendChild(docLink);\n",
              "      }\n",
              "    </script>\n",
              "  </div>\n",
              "\n",
              "\n",
              "    <div id=\"df-09f68eaa-88de-4e4a-a5fa-9b1258a27c32\">\n",
              "      <button class=\"colab-df-quickchart\" onclick=\"quickchart('df-09f68eaa-88de-4e4a-a5fa-9b1258a27c32')\"\n",
              "                title=\"Suggest charts\"\n",
              "                style=\"display:none;\">\n",
              "\n",
              "<svg xmlns=\"http://www.w3.org/2000/svg\" height=\"24px\"viewBox=\"0 0 24 24\"\n",
              "     width=\"24px\">\n",
              "    <g>\n",
              "        <path d=\"M19 3H5c-1.1 0-2 .9-2 2v14c0 1.1.9 2 2 2h14c1.1 0 2-.9 2-2V5c0-1.1-.9-2-2-2zM9 17H7v-7h2v7zm4 0h-2V7h2v10zm4 0h-2v-4h2v4z\"/>\n",
              "    </g>\n",
              "</svg>\n",
              "      </button>\n",
              "\n",
              "<style>\n",
              "  .colab-df-quickchart {\n",
              "      --bg-color: #E8F0FE;\n",
              "      --fill-color: #1967D2;\n",
              "      --hover-bg-color: #E2EBFA;\n",
              "      --hover-fill-color: #174EA6;\n",
              "      --disabled-fill-color: #AAA;\n",
              "      --disabled-bg-color: #DDD;\n",
              "  }\n",
              "\n",
              "  [theme=dark] .colab-df-quickchart {\n",
              "      --bg-color: #3B4455;\n",
              "      --fill-color: #D2E3FC;\n",
              "      --hover-bg-color: #434B5C;\n",
              "      --hover-fill-color: #FFFFFF;\n",
              "      --disabled-bg-color: #3B4455;\n",
              "      --disabled-fill-color: #666;\n",
              "  }\n",
              "\n",
              "  .colab-df-quickchart {\n",
              "    background-color: var(--bg-color);\n",
              "    border: none;\n",
              "    border-radius: 50%;\n",
              "    cursor: pointer;\n",
              "    display: none;\n",
              "    fill: var(--fill-color);\n",
              "    height: 32px;\n",
              "    padding: 0;\n",
              "    width: 32px;\n",
              "  }\n",
              "\n",
              "  .colab-df-quickchart:hover {\n",
              "    background-color: var(--hover-bg-color);\n",
              "    box-shadow: 0 1px 2px rgba(60, 64, 67, 0.3), 0 1px 3px 1px rgba(60, 64, 67, 0.15);\n",
              "    fill: var(--button-hover-fill-color);\n",
              "  }\n",
              "\n",
              "  .colab-df-quickchart-complete:disabled,\n",
              "  .colab-df-quickchart-complete:disabled:hover {\n",
              "    background-color: var(--disabled-bg-color);\n",
              "    fill: var(--disabled-fill-color);\n",
              "    box-shadow: none;\n",
              "  }\n",
              "\n",
              "  .colab-df-spinner {\n",
              "    border: 2px solid var(--fill-color);\n",
              "    border-color: transparent;\n",
              "    border-bottom-color: var(--fill-color);\n",
              "    animation:\n",
              "      spin 1s steps(1) infinite;\n",
              "  }\n",
              "\n",
              "  @keyframes spin {\n",
              "    0% {\n",
              "      border-color: transparent;\n",
              "      border-bottom-color: var(--fill-color);\n",
              "      border-left-color: var(--fill-color);\n",
              "    }\n",
              "    20% {\n",
              "      border-color: transparent;\n",
              "      border-left-color: var(--fill-color);\n",
              "      border-top-color: var(--fill-color);\n",
              "    }\n",
              "    30% {\n",
              "      border-color: transparent;\n",
              "      border-left-color: var(--fill-color);\n",
              "      border-top-color: var(--fill-color);\n",
              "      border-right-color: var(--fill-color);\n",
              "    }\n",
              "    40% {\n",
              "      border-color: transparent;\n",
              "      border-right-color: var(--fill-color);\n",
              "      border-top-color: var(--fill-color);\n",
              "    }\n",
              "    60% {\n",
              "      border-color: transparent;\n",
              "      border-right-color: var(--fill-color);\n",
              "    }\n",
              "    80% {\n",
              "      border-color: transparent;\n",
              "      border-right-color: var(--fill-color);\n",
              "      border-bottom-color: var(--fill-color);\n",
              "    }\n",
              "    90% {\n",
              "      border-color: transparent;\n",
              "      border-bottom-color: var(--fill-color);\n",
              "    }\n",
              "  }\n",
              "</style>\n",
              "\n",
              "      <script>\n",
              "        async function quickchart(key) {\n",
              "          const quickchartButtonEl =\n",
              "            document.querySelector('#' + key + ' button');\n",
              "          quickchartButtonEl.disabled = true;  // To prevent multiple clicks.\n",
              "          quickchartButtonEl.classList.add('colab-df-spinner');\n",
              "          try {\n",
              "            const charts = await google.colab.kernel.invokeFunction(\n",
              "                'suggestCharts', [key], {});\n",
              "          } catch (error) {\n",
              "            console.error('Error during call to suggestCharts:', error);\n",
              "          }\n",
              "          quickchartButtonEl.classList.remove('colab-df-spinner');\n",
              "          quickchartButtonEl.classList.add('colab-df-quickchart-complete');\n",
              "        }\n",
              "        (() => {\n",
              "          let quickchartButtonEl =\n",
              "            document.querySelector('#df-09f68eaa-88de-4e4a-a5fa-9b1258a27c32 button');\n",
              "          quickchartButtonEl.style.display =\n",
              "            google.colab.kernel.accessAllowed ? 'block' : 'none';\n",
              "        })();\n",
              "      </script>\n",
              "    </div>\n",
              "\n",
              "  <div id=\"id_99c18e75-2b35-467d-9469-00ea5d8c6f09\">\n",
              "    <style>\n",
              "      .colab-df-generate {\n",
              "        background-color: #E8F0FE;\n",
              "        border: none;\n",
              "        border-radius: 50%;\n",
              "        cursor: pointer;\n",
              "        display: none;\n",
              "        fill: #1967D2;\n",
              "        height: 32px;\n",
              "        padding: 0 0 0 0;\n",
              "        width: 32px;\n",
              "      }\n",
              "\n",
              "      .colab-df-generate:hover {\n",
              "        background-color: #E2EBFA;\n",
              "        box-shadow: 0px 1px 2px rgba(60, 64, 67, 0.3), 0px 1px 3px 1px rgba(60, 64, 67, 0.15);\n",
              "        fill: #174EA6;\n",
              "      }\n",
              "\n",
              "      [theme=dark] .colab-df-generate {\n",
              "        background-color: #3B4455;\n",
              "        fill: #D2E3FC;\n",
              "      }\n",
              "\n",
              "      [theme=dark] .colab-df-generate:hover {\n",
              "        background-color: #434B5C;\n",
              "        box-shadow: 0px 1px 3px 1px rgba(0, 0, 0, 0.15);\n",
              "        filter: drop-shadow(0px 1px 2px rgba(0, 0, 0, 0.3));\n",
              "        fill: #FFFFFF;\n",
              "      }\n",
              "    </style>\n",
              "    <button class=\"colab-df-generate\" onclick=\"generateWithVariable('consolidado_comparativo')\"\n",
              "            title=\"Generate code using this dataframe.\"\n",
              "            style=\"display:none;\">\n",
              "\n",
              "  <svg xmlns=\"http://www.w3.org/2000/svg\" height=\"24px\"viewBox=\"0 0 24 24\"\n",
              "       width=\"24px\">\n",
              "    <path d=\"M7,19H8.4L18.45,9,17,7.55,7,17.6ZM5,21V16.75L18.45,3.32a2,2,0,0,1,2.83,0l1.4,1.43a1.91,1.91,0,0,1,.58,1.4,1.91,1.91,0,0,1-.58,1.4L9.25,21ZM18.45,9,17,7.55Zm-12,3A5.31,5.31,0,0,0,4.9,8.1,5.31,5.31,0,0,0,1,6.5,5.31,5.31,0,0,0,4.9,4.9,5.31,5.31,0,0,0,6.5,1,5.31,5.31,0,0,0,8.1,4.9,5.31,5.31,0,0,0,12,6.5,5.46,5.46,0,0,0,6.5,12Z\"/>\n",
              "  </svg>\n",
              "    </button>\n",
              "    <script>\n",
              "      (() => {\n",
              "      const buttonEl =\n",
              "        document.querySelector('#id_99c18e75-2b35-467d-9469-00ea5d8c6f09 button.colab-df-generate');\n",
              "      buttonEl.style.display =\n",
              "        google.colab.kernel.accessAllowed ? 'block' : 'none';\n",
              "\n",
              "      buttonEl.onclick = () => {\n",
              "        google.colab.notebook.generateWithVariable('consolidado_comparativo');\n",
              "      }\n",
              "      })();\n",
              "    </script>\n",
              "  </div>\n",
              "\n",
              "    </div>\n",
              "  </div>\n"
            ],
            "application/vnd.google.colaboratory.intrinsic+json": {
              "type": "dataframe",
              "variable_name": "consolidado_comparativo",
              "summary": "{\n  \"name\": \"consolidado_comparativo\",\n  \"rows\": 5,\n  \"fields\": [\n    {\n      \"column\": \"resumo_tamanho_Sepala\",\n      \"properties\": {\n        \"dtype\": \"number\",\n        \"std\": 5.540662133193615,\n        \"min\": 0.6856935123042505,\n        \"max\": 14.171125977944033,\n        \"num_unique_values\": 5,\n        \"samples\": [\n          0.6856935123042505,\n          14.171125977944033,\n          0.8280661279778629\n        ],\n        \"semantic_type\": \"\",\n        \"description\": \"\"\n      }\n    },\n    {\n      \"column\": \"resumo_tamanho_Petala\",\n      \"properties\": {\n        \"dtype\": \"number\",\n        \"std\": 19.439399123157603,\n        \"min\": 1.7652982332594667,\n        \"max\": 46.97440748428596,\n        \"num_unique_values\": 5,\n        \"samples\": [\n          3.1162778523489942,\n          46.97440748428596,\n          1.7652982332594667\n        ],\n        \"semantic_type\": \"\",\n        \"description\": \"\"\n      }\n    }\n  ]\n}"
            }
          },
          "metadata": {},
          "execution_count": 7
        }
      ]
    },
    {
      "cell_type": "markdown",
      "source": [
        "\n",
        "# Resultados resumidos"
      ],
      "metadata": {
        "id": "Ywzq9p4K2M3L"
      },
      "id": "Ywzq9p4K2M3L"
    },
    {
      "cell_type": "code",
      "source": [
        "print(\"Resumo Sepal.Length:\\n\", dados_a0_consolidados)\n",
        "print(\"\\nResumo Petal.Length:\\n\", dados_a1_consolidados)\n",
        "print(\"\\nResumo comparativo:\\n\", consolidado_comparativo)\n",
        "print(f\"\\nMedia Sepal.Length: {mean_a0}, Media Petal.Length: {mean_a1}\")"
      ],
      "metadata": {
        "colab": {
          "base_uri": "https://localhost:8080/"
        },
        "id": "vKyclWx62Lw4",
        "outputId": "4b804ead-d469-4088-c1f2-46318f07d3be"
      },
      "id": "vKyclWx62Lw4",
      "execution_count": 12,
      "outputs": [
        {
          "output_type": "stream",
          "name": "stdout",
          "text": [
            "Resumo Sepal.Length:\n",
            "    amplitude  variancia  desvio_padrao     media  coeficiente_variacao\n",
            "0        3.6   0.685694       0.828066  5.843333             14.171126\n",
            "\n",
            "Resumo Petal.Length:\n",
            "    amplitude  variancia  desvio_padrao  media  coeficiente_variacao\n",
            "0        5.9   3.116278       1.765298  3.758             46.974407\n",
            "\n",
            "Resumo comparativo:\n",
            "                       resumo_tamanho_Sepala  resumo_tamanho_Petala\n",
            "amplitude                          3.600000               5.900000\n",
            "variancia                          0.685694               3.116278\n",
            "desvio_padrao                      0.828066               1.765298\n",
            "media                              5.843333               3.758000\n",
            "coeficiente_variacao              14.171126              46.974407\n",
            "\n",
            "Media Sepal.Length: 5.843333333333334, Media Petal.Length: 3.7580000000000005\n"
          ]
        }
      ]
    },
    {
      "cell_type": "markdown",
      "source": [
        "# Comparacao entre duas carteiras"
      ],
      "metadata": {
        "id": "lutPwxT_2Hmn"
      },
      "id": "lutPwxT_2Hmn"
    },
    {
      "cell_type": "code",
      "source": [
        "\n",
        "a = np.array([50, 60, 70])\n",
        "b = np.array([-20, 140])\n",
        "\n",
        "mean_a = np.mean(a)\n",
        "mean_b = np.mean(b)\n",
        "median_a = np.median(a)\n",
        "median_b = np.median(b)\n",
        "sd_a = np.std(a, ddof=1)\n",
        "sd_b = np.std(b, ddof=1)\n",
        "cv_a = sd_a / mean_a * 100\n",
        "cv_b = sd_b / mean_b * 100\n"
      ],
      "metadata": {
        "id": "Z0w4Y2JP2GgE"
      },
      "id": "Z0w4Y2JP2GgE",
      "execution_count": 10,
      "outputs": []
    },
    {
      "cell_type": "code",
      "source": [
        "print(\"\\nComparacao entre carteiras:\")\n",
        "print(f\"Media a: {mean_a}, Media b: {mean_b}\")\n",
        "print(f\"Mediana a: {median_a}, Mediana b: {median_b}\")\n",
        "print(f\"Desvio padrao a: {sd_a}, Desvio padrao b: {sd_b}\")\n",
        "print(f\"Coeficiente de variacao a: {cv_a:.2f}%, b: {cv_b:.2f}%\")"
      ],
      "metadata": {
        "colab": {
          "base_uri": "https://localhost:8080/"
        },
        "id": "5J6PMx7k2hwr",
        "outputId": "f19c0882-4658-42dd-c61e-4b7f17a4f270"
      },
      "id": "5J6PMx7k2hwr",
      "execution_count": 11,
      "outputs": [
        {
          "output_type": "stream",
          "name": "stdout",
          "text": [
            "\n",
            "Comparacao entre carteiras:\n",
            "Media a: 60.0, Media b: 60.0\n",
            "Mediana a: 60.0, Mediana b: 60.0\n",
            "Desvio padrao a: 10.0, Desvio padrao b: 113.13708498984761\n",
            "Coeficiente de variacao a: 16.67%, b: 188.56%\n"
          ]
        }
      ]
    }
  ],
  "metadata": {
    "kernelspec": {
      "display_name": "Python 3",
      "name": "python3",
      "language": "python"
    },
    "language_info": {
      "name": "python",
      "version": "3.11.4",
      "mimetype": "text/x-python",
      "codemirror_mode": {
        "name": "ipython",
        "version": 3
      },
      "file_extension": ".py",
      "pygments_lexer": "ipython3",
      "nbconvert_exporter": "python"
    },
    "colab": {
      "provenance": [],
      "include_colab_link": true
    }
  },
  "nbformat": 4,
  "nbformat_minor": 5
}
