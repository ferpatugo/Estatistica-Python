{
  "cells": [
    {
      "cell_type": "markdown",
      "metadata": {
        "id": "view-in-github",
        "colab_type": "text"
      },
      "source": [
        "<a href=\"https://colab.research.google.com/github/ferpatugo/Estatistica-Python/blob/main/Aula_Exemplo_PROJETO_FINAL.ipynb\" target=\"_parent\"><img src=\"https://colab.research.google.com/assets/colab-badge.svg\" alt=\"Open In Colab\"/></a>"
      ]
    },
    {
      "cell_type": "markdown",
      "source": [
        "# Projeto Final Exemplo"
      ],
      "metadata": {
        "id": "DsIkAtGtaUrV"
      },
      "id": "DsIkAtGtaUrV"
    },
    {
      "cell_type": "markdown",
      "source": [
        "# Carregando Pacotes"
      ],
      "metadata": {
        "id": "lQ91yuV4aY96"
      },
      "id": "lQ91yuV4aY96"
    },
    {
      "cell_type": "code",
      "execution_count": null,
      "metadata": {
        "id": "QDx2grgRaTcT"
      },
      "outputs": [],
      "source": [
        "import pandas as pd\n",
        "import matplotlib.pyplot as plt\n",
        "import seaborn as sns\n",
        "from scipy.stats import skew, kurtosis\n",
        "from plotly.offline import init_notebook_mode, iplot\n",
        "import plotly.express as px\n",
        "import plotly.graph_objs as go\n",
        "from plotly.subplots import make_subplots\n",
        "import plotly.io as pio\n",
        "pio.renderers.default = 'colab'\n",
        "\n",
        "# Configurações para exibir gráficos no notebook\n",
        "init_notebook_mode(connected=True)"
      ],
      "id": "QDx2grgRaTcT"
    },
    {
      "cell_type": "markdown",
      "source": [
        "# Leitura do dataset"
      ],
      "metadata": {
        "id": "BqvlV_cFagpr"
      },
      "id": "BqvlV_cFagpr"
    },
    {
      "cell_type": "code",
      "source": [
        "def convert_num(x):\n",
        "    try:\n",
        "        return float(x.replace(',', '.').strip())\n",
        "    except:\n",
        "        return pd.NA\n",
        "\n",
        "enade2017 = pd.read_csv(\n",
        "    'MICRODADOS_ENADE_2017.txt',\n",
        "    delimiter=';',\n",
        "    encoding='latin1',\n",
        "    converters={\n",
        "        'NT_OBJ_CE': convert_num,\n",
        "        'NT_GER': convert_num\n",
        "    }\n",
        ")\n"
      ],
      "metadata": {
        "id": "didkt30yafHJ"
      },
      "id": "didkt30yafHJ",
      "execution_count": null,
      "outputs": []
    },
    {
      "cell_type": "code",
      "source": [
        "enade2017"
      ],
      "metadata": {
        "colab": {
          "base_uri": "https://localhost:8080/",
          "height": 443
        },
        "id": "d9bc189ubw_r",
        "outputId": "a75f68d5-cdbc-4093-e688-60ac8f74ff82"
      },
      "id": "d9bc189ubw_r",
      "execution_count": null,
      "outputs": [
        {
          "output_type": "execute_result",
          "data": {
            "text/plain": [
              "        NU_ANO  CO_IES  CO_CATEGAD  CO_ORGACAD  CO_GRUPO  CO_CURSO  \\\n",
              "0         2017       1           1       10028      5710         3   \n",
              "1         2017       1           1       10028      5710         3   \n",
              "2         2017       1           1       10028      5710         3   \n",
              "3         2017       1           1       10028      5710         3   \n",
              "4         2017       1           1       10028      5710         3   \n",
              "...        ...     ...         ...         ...       ...       ...   \n",
              "185046    2017      20           5       10028      1601     66005   \n",
              "185047    2017      20           5       10028      1601     66005   \n",
              "185048    2017      20           5       10028      1601     66005   \n",
              "185049    2017      20           5       10028      1602     66008   \n",
              "185050    2017      20           5       10028      1602     66008   \n",
              "\n",
              "        CO_MODALIDADE  CO_MUNIC_CURSO  CO_UF_CURSO  CO_REGIAO_CURSO  ...  \\\n",
              "0                   1         5103403           51                5  ...   \n",
              "1                   1         5103403           51                5  ...   \n",
              "2                   1         5103403           51                5  ...   \n",
              "3                   1         5103403           51                5  ...   \n",
              "4                   1         5103403           51                5  ...   \n",
              "...               ...             ...          ...              ...  ...   \n",
              "185046              1         4314100           43                4  ...   \n",
              "185047              1         4314100           43                4  ...   \n",
              "185048              1         4314100           43                4  ...   \n",
              "185049              1         4314100           43                4  ...   \n",
              "185050              1         4314100           43                4  ...   \n",
              "\n",
              "        QE_I72 QE_I73  QE_I74  QE_I75  QE_I76  QE_I77  QE_I78  QE_I79  QE_I80  \\\n",
              "0          NaN    NaN     NaN     NaN     NaN     NaN     NaN     NaN     NaN   \n",
              "1          NaN    NaN     NaN     NaN     NaN     NaN     NaN     NaN     NaN   \n",
              "2          NaN    NaN     NaN     NaN     NaN     NaN     NaN     NaN     NaN   \n",
              "3          NaN    NaN     NaN     NaN     NaN     NaN     NaN     NaN     NaN   \n",
              "4          NaN    NaN     NaN     NaN     NaN     NaN     NaN     NaN     NaN   \n",
              "...        ...    ...     ...     ...     ...     ...     ...     ...     ...   \n",
              "185046     NaN    NaN     NaN     NaN     NaN     NaN     NaN     NaN     NaN   \n",
              "185047     NaN    NaN     NaN     NaN     NaN     NaN     NaN     NaN     NaN   \n",
              "185048     NaN    NaN     NaN     NaN     NaN     NaN     NaN     NaN     NaN   \n",
              "185049       B      A       A       B       C       A       A       A       C   \n",
              "185050     NaN    NaN     NaN     NaN     NaN     NaN     NaN     NaN     NaN   \n",
              "\n",
              "        QE_I81  \n",
              "0          NaN  \n",
              "1          NaN  \n",
              "2          NaN  \n",
              "3          NaN  \n",
              "4          NaN  \n",
              "...        ...  \n",
              "185046     NaN  \n",
              "185047     NaN  \n",
              "185048     NaN  \n",
              "185049       D  \n",
              "185050     NaN  \n",
              "\n",
              "[185051 rows x 150 columns]"
            ],
            "text/html": [
              "\n",
              "  <div id=\"df-72041440-f961-4379-b6a4-e3e11809f1a2\" class=\"colab-df-container\">\n",
              "    <div>\n",
              "<style scoped>\n",
              "    .dataframe tbody tr th:only-of-type {\n",
              "        vertical-align: middle;\n",
              "    }\n",
              "\n",
              "    .dataframe tbody tr th {\n",
              "        vertical-align: top;\n",
              "    }\n",
              "\n",
              "    .dataframe thead th {\n",
              "        text-align: right;\n",
              "    }\n",
              "</style>\n",
              "<table border=\"1\" class=\"dataframe\">\n",
              "  <thead>\n",
              "    <tr style=\"text-align: right;\">\n",
              "      <th></th>\n",
              "      <th>NU_ANO</th>\n",
              "      <th>CO_IES</th>\n",
              "      <th>CO_CATEGAD</th>\n",
              "      <th>CO_ORGACAD</th>\n",
              "      <th>CO_GRUPO</th>\n",
              "      <th>CO_CURSO</th>\n",
              "      <th>CO_MODALIDADE</th>\n",
              "      <th>CO_MUNIC_CURSO</th>\n",
              "      <th>CO_UF_CURSO</th>\n",
              "      <th>CO_REGIAO_CURSO</th>\n",
              "      <th>...</th>\n",
              "      <th>QE_I72</th>\n",
              "      <th>QE_I73</th>\n",
              "      <th>QE_I74</th>\n",
              "      <th>QE_I75</th>\n",
              "      <th>QE_I76</th>\n",
              "      <th>QE_I77</th>\n",
              "      <th>QE_I78</th>\n",
              "      <th>QE_I79</th>\n",
              "      <th>QE_I80</th>\n",
              "      <th>QE_I81</th>\n",
              "    </tr>\n",
              "  </thead>\n",
              "  <tbody>\n",
              "    <tr>\n",
              "      <th>0</th>\n",
              "      <td>2017</td>\n",
              "      <td>1</td>\n",
              "      <td>1</td>\n",
              "      <td>10028</td>\n",
              "      <td>5710</td>\n",
              "      <td>3</td>\n",
              "      <td>1</td>\n",
              "      <td>5103403</td>\n",
              "      <td>51</td>\n",
              "      <td>5</td>\n",
              "      <td>...</td>\n",
              "      <td>NaN</td>\n",
              "      <td>NaN</td>\n",
              "      <td>NaN</td>\n",
              "      <td>NaN</td>\n",
              "      <td>NaN</td>\n",
              "      <td>NaN</td>\n",
              "      <td>NaN</td>\n",
              "      <td>NaN</td>\n",
              "      <td>NaN</td>\n",
              "      <td>NaN</td>\n",
              "    </tr>\n",
              "    <tr>\n",
              "      <th>1</th>\n",
              "      <td>2017</td>\n",
              "      <td>1</td>\n",
              "      <td>1</td>\n",
              "      <td>10028</td>\n",
              "      <td>5710</td>\n",
              "      <td>3</td>\n",
              "      <td>1</td>\n",
              "      <td>5103403</td>\n",
              "      <td>51</td>\n",
              "      <td>5</td>\n",
              "      <td>...</td>\n",
              "      <td>NaN</td>\n",
              "      <td>NaN</td>\n",
              "      <td>NaN</td>\n",
              "      <td>NaN</td>\n",
              "      <td>NaN</td>\n",
              "      <td>NaN</td>\n",
              "      <td>NaN</td>\n",
              "      <td>NaN</td>\n",
              "      <td>NaN</td>\n",
              "      <td>NaN</td>\n",
              "    </tr>\n",
              "    <tr>\n",
              "      <th>2</th>\n",
              "      <td>2017</td>\n",
              "      <td>1</td>\n",
              "      <td>1</td>\n",
              "      <td>10028</td>\n",
              "      <td>5710</td>\n",
              "      <td>3</td>\n",
              "      <td>1</td>\n",
              "      <td>5103403</td>\n",
              "      <td>51</td>\n",
              "      <td>5</td>\n",
              "      <td>...</td>\n",
              "      <td>NaN</td>\n",
              "      <td>NaN</td>\n",
              "      <td>NaN</td>\n",
              "      <td>NaN</td>\n",
              "      <td>NaN</td>\n",
              "      <td>NaN</td>\n",
              "      <td>NaN</td>\n",
              "      <td>NaN</td>\n",
              "      <td>NaN</td>\n",
              "      <td>NaN</td>\n",
              "    </tr>\n",
              "    <tr>\n",
              "      <th>3</th>\n",
              "      <td>2017</td>\n",
              "      <td>1</td>\n",
              "      <td>1</td>\n",
              "      <td>10028</td>\n",
              "      <td>5710</td>\n",
              "      <td>3</td>\n",
              "      <td>1</td>\n",
              "      <td>5103403</td>\n",
              "      <td>51</td>\n",
              "      <td>5</td>\n",
              "      <td>...</td>\n",
              "      <td>NaN</td>\n",
              "      <td>NaN</td>\n",
              "      <td>NaN</td>\n",
              "      <td>NaN</td>\n",
              "      <td>NaN</td>\n",
              "      <td>NaN</td>\n",
              "      <td>NaN</td>\n",
              "      <td>NaN</td>\n",
              "      <td>NaN</td>\n",
              "      <td>NaN</td>\n",
              "    </tr>\n",
              "    <tr>\n",
              "      <th>4</th>\n",
              "      <td>2017</td>\n",
              "      <td>1</td>\n",
              "      <td>1</td>\n",
              "      <td>10028</td>\n",
              "      <td>5710</td>\n",
              "      <td>3</td>\n",
              "      <td>1</td>\n",
              "      <td>5103403</td>\n",
              "      <td>51</td>\n",
              "      <td>5</td>\n",
              "      <td>...</td>\n",
              "      <td>NaN</td>\n",
              "      <td>NaN</td>\n",
              "      <td>NaN</td>\n",
              "      <td>NaN</td>\n",
              "      <td>NaN</td>\n",
              "      <td>NaN</td>\n",
              "      <td>NaN</td>\n",
              "      <td>NaN</td>\n",
              "      <td>NaN</td>\n",
              "      <td>NaN</td>\n",
              "    </tr>\n",
              "    <tr>\n",
              "      <th>...</th>\n",
              "      <td>...</td>\n",
              "      <td>...</td>\n",
              "      <td>...</td>\n",
              "      <td>...</td>\n",
              "      <td>...</td>\n",
              "      <td>...</td>\n",
              "      <td>...</td>\n",
              "      <td>...</td>\n",
              "      <td>...</td>\n",
              "      <td>...</td>\n",
              "      <td>...</td>\n",
              "      <td>...</td>\n",
              "      <td>...</td>\n",
              "      <td>...</td>\n",
              "      <td>...</td>\n",
              "      <td>...</td>\n",
              "      <td>...</td>\n",
              "      <td>...</td>\n",
              "      <td>...</td>\n",
              "      <td>...</td>\n",
              "      <td>...</td>\n",
              "    </tr>\n",
              "    <tr>\n",
              "      <th>185046</th>\n",
              "      <td>2017</td>\n",
              "      <td>20</td>\n",
              "      <td>5</td>\n",
              "      <td>10028</td>\n",
              "      <td>1601</td>\n",
              "      <td>66005</td>\n",
              "      <td>1</td>\n",
              "      <td>4314100</td>\n",
              "      <td>43</td>\n",
              "      <td>4</td>\n",
              "      <td>...</td>\n",
              "      <td>NaN</td>\n",
              "      <td>NaN</td>\n",
              "      <td>NaN</td>\n",
              "      <td>NaN</td>\n",
              "      <td>NaN</td>\n",
              "      <td>NaN</td>\n",
              "      <td>NaN</td>\n",
              "      <td>NaN</td>\n",
              "      <td>NaN</td>\n",
              "      <td>NaN</td>\n",
              "    </tr>\n",
              "    <tr>\n",
              "      <th>185047</th>\n",
              "      <td>2017</td>\n",
              "      <td>20</td>\n",
              "      <td>5</td>\n",
              "      <td>10028</td>\n",
              "      <td>1601</td>\n",
              "      <td>66005</td>\n",
              "      <td>1</td>\n",
              "      <td>4314100</td>\n",
              "      <td>43</td>\n",
              "      <td>4</td>\n",
              "      <td>...</td>\n",
              "      <td>NaN</td>\n",
              "      <td>NaN</td>\n",
              "      <td>NaN</td>\n",
              "      <td>NaN</td>\n",
              "      <td>NaN</td>\n",
              "      <td>NaN</td>\n",
              "      <td>NaN</td>\n",
              "      <td>NaN</td>\n",
              "      <td>NaN</td>\n",
              "      <td>NaN</td>\n",
              "    </tr>\n",
              "    <tr>\n",
              "      <th>185048</th>\n",
              "      <td>2017</td>\n",
              "      <td>20</td>\n",
              "      <td>5</td>\n",
              "      <td>10028</td>\n",
              "      <td>1601</td>\n",
              "      <td>66005</td>\n",
              "      <td>1</td>\n",
              "      <td>4314100</td>\n",
              "      <td>43</td>\n",
              "      <td>4</td>\n",
              "      <td>...</td>\n",
              "      <td>NaN</td>\n",
              "      <td>NaN</td>\n",
              "      <td>NaN</td>\n",
              "      <td>NaN</td>\n",
              "      <td>NaN</td>\n",
              "      <td>NaN</td>\n",
              "      <td>NaN</td>\n",
              "      <td>NaN</td>\n",
              "      <td>NaN</td>\n",
              "      <td>NaN</td>\n",
              "    </tr>\n",
              "    <tr>\n",
              "      <th>185049</th>\n",
              "      <td>2017</td>\n",
              "      <td>20</td>\n",
              "      <td>5</td>\n",
              "      <td>10028</td>\n",
              "      <td>1602</td>\n",
              "      <td>66008</td>\n",
              "      <td>1</td>\n",
              "      <td>4314100</td>\n",
              "      <td>43</td>\n",
              "      <td>4</td>\n",
              "      <td>...</td>\n",
              "      <td>B</td>\n",
              "      <td>A</td>\n",
              "      <td>A</td>\n",
              "      <td>B</td>\n",
              "      <td>C</td>\n",
              "      <td>A</td>\n",
              "      <td>A</td>\n",
              "      <td>A</td>\n",
              "      <td>C</td>\n",
              "      <td>D</td>\n",
              "    </tr>\n",
              "    <tr>\n",
              "      <th>185050</th>\n",
              "      <td>2017</td>\n",
              "      <td>20</td>\n",
              "      <td>5</td>\n",
              "      <td>10028</td>\n",
              "      <td>1602</td>\n",
              "      <td>66008</td>\n",
              "      <td>1</td>\n",
              "      <td>4314100</td>\n",
              "      <td>43</td>\n",
              "      <td>4</td>\n",
              "      <td>...</td>\n",
              "      <td>NaN</td>\n",
              "      <td>NaN</td>\n",
              "      <td>NaN</td>\n",
              "      <td>NaN</td>\n",
              "      <td>NaN</td>\n",
              "      <td>NaN</td>\n",
              "      <td>NaN</td>\n",
              "      <td>NaN</td>\n",
              "      <td>NaN</td>\n",
              "      <td>NaN</td>\n",
              "    </tr>\n",
              "  </tbody>\n",
              "</table>\n",
              "<p>185051 rows × 150 columns</p>\n",
              "</div>\n",
              "    <div class=\"colab-df-buttons\">\n",
              "\n",
              "  <div class=\"colab-df-container\">\n",
              "    <button class=\"colab-df-convert\" onclick=\"convertToInteractive('df-72041440-f961-4379-b6a4-e3e11809f1a2')\"\n",
              "            title=\"Convert this dataframe to an interactive table.\"\n",
              "            style=\"display:none;\">\n",
              "\n",
              "  <svg xmlns=\"http://www.w3.org/2000/svg\" height=\"24px\" viewBox=\"0 -960 960 960\">\n",
              "    <path d=\"M120-120v-720h720v720H120Zm60-500h600v-160H180v160Zm220 220h160v-160H400v160Zm0 220h160v-160H400v160ZM180-400h160v-160H180v160Zm440 0h160v-160H620v160ZM180-180h160v-160H180v160Zm440 0h160v-160H620v160Z\"/>\n",
              "  </svg>\n",
              "    </button>\n",
              "\n",
              "  <style>\n",
              "    .colab-df-container {\n",
              "      display:flex;\n",
              "      gap: 12px;\n",
              "    }\n",
              "\n",
              "    .colab-df-convert {\n",
              "      background-color: #E8F0FE;\n",
              "      border: none;\n",
              "      border-radius: 50%;\n",
              "      cursor: pointer;\n",
              "      display: none;\n",
              "      fill: #1967D2;\n",
              "      height: 32px;\n",
              "      padding: 0 0 0 0;\n",
              "      width: 32px;\n",
              "    }\n",
              "\n",
              "    .colab-df-convert:hover {\n",
              "      background-color: #E2EBFA;\n",
              "      box-shadow: 0px 1px 2px rgba(60, 64, 67, 0.3), 0px 1px 3px 1px rgba(60, 64, 67, 0.15);\n",
              "      fill: #174EA6;\n",
              "    }\n",
              "\n",
              "    .colab-df-buttons div {\n",
              "      margin-bottom: 4px;\n",
              "    }\n",
              "\n",
              "    [theme=dark] .colab-df-convert {\n",
              "      background-color: #3B4455;\n",
              "      fill: #D2E3FC;\n",
              "    }\n",
              "\n",
              "    [theme=dark] .colab-df-convert:hover {\n",
              "      background-color: #434B5C;\n",
              "      box-shadow: 0px 1px 3px 1px rgba(0, 0, 0, 0.15);\n",
              "      filter: drop-shadow(0px 1px 2px rgba(0, 0, 0, 0.3));\n",
              "      fill: #FFFFFF;\n",
              "    }\n",
              "  </style>\n",
              "\n",
              "    <script>\n",
              "      const buttonEl =\n",
              "        document.querySelector('#df-72041440-f961-4379-b6a4-e3e11809f1a2 button.colab-df-convert');\n",
              "      buttonEl.style.display =\n",
              "        google.colab.kernel.accessAllowed ? 'block' : 'none';\n",
              "\n",
              "      async function convertToInteractive(key) {\n",
              "        const element = document.querySelector('#df-72041440-f961-4379-b6a4-e3e11809f1a2');\n",
              "        const dataTable =\n",
              "          await google.colab.kernel.invokeFunction('convertToInteractive',\n",
              "                                                    [key], {});\n",
              "        if (!dataTable) return;\n",
              "\n",
              "        const docLinkHtml = 'Like what you see? Visit the ' +\n",
              "          '<a target=\"_blank\" href=https://colab.research.google.com/notebooks/data_table.ipynb>data table notebook</a>'\n",
              "          + ' to learn more about interactive tables.';\n",
              "        element.innerHTML = '';\n",
              "        dataTable['output_type'] = 'display_data';\n",
              "        await google.colab.output.renderOutput(dataTable, element);\n",
              "        const docLink = document.createElement('div');\n",
              "        docLink.innerHTML = docLinkHtml;\n",
              "        element.appendChild(docLink);\n",
              "      }\n",
              "    </script>\n",
              "  </div>\n",
              "\n",
              "\n",
              "    <div id=\"df-5db84733-06ef-4566-828c-965e815ddf09\">\n",
              "      <button class=\"colab-df-quickchart\" onclick=\"quickchart('df-5db84733-06ef-4566-828c-965e815ddf09')\"\n",
              "                title=\"Suggest charts\"\n",
              "                style=\"display:none;\">\n",
              "\n",
              "<svg xmlns=\"http://www.w3.org/2000/svg\" height=\"24px\"viewBox=\"0 0 24 24\"\n",
              "     width=\"24px\">\n",
              "    <g>\n",
              "        <path d=\"M19 3H5c-1.1 0-2 .9-2 2v14c0 1.1.9 2 2 2h14c1.1 0 2-.9 2-2V5c0-1.1-.9-2-2-2zM9 17H7v-7h2v7zm4 0h-2V7h2v10zm4 0h-2v-4h2v4z\"/>\n",
              "    </g>\n",
              "</svg>\n",
              "      </button>\n",
              "\n",
              "<style>\n",
              "  .colab-df-quickchart {\n",
              "      --bg-color: #E8F0FE;\n",
              "      --fill-color: #1967D2;\n",
              "      --hover-bg-color: #E2EBFA;\n",
              "      --hover-fill-color: #174EA6;\n",
              "      --disabled-fill-color: #AAA;\n",
              "      --disabled-bg-color: #DDD;\n",
              "  }\n",
              "\n",
              "  [theme=dark] .colab-df-quickchart {\n",
              "      --bg-color: #3B4455;\n",
              "      --fill-color: #D2E3FC;\n",
              "      --hover-bg-color: #434B5C;\n",
              "      --hover-fill-color: #FFFFFF;\n",
              "      --disabled-bg-color: #3B4455;\n",
              "      --disabled-fill-color: #666;\n",
              "  }\n",
              "\n",
              "  .colab-df-quickchart {\n",
              "    background-color: var(--bg-color);\n",
              "    border: none;\n",
              "    border-radius: 50%;\n",
              "    cursor: pointer;\n",
              "    display: none;\n",
              "    fill: var(--fill-color);\n",
              "    height: 32px;\n",
              "    padding: 0;\n",
              "    width: 32px;\n",
              "  }\n",
              "\n",
              "  .colab-df-quickchart:hover {\n",
              "    background-color: var(--hover-bg-color);\n",
              "    box-shadow: 0 1px 2px rgba(60, 64, 67, 0.3), 0 1px 3px 1px rgba(60, 64, 67, 0.15);\n",
              "    fill: var(--button-hover-fill-color);\n",
              "  }\n",
              "\n",
              "  .colab-df-quickchart-complete:disabled,\n",
              "  .colab-df-quickchart-complete:disabled:hover {\n",
              "    background-color: var(--disabled-bg-color);\n",
              "    fill: var(--disabled-fill-color);\n",
              "    box-shadow: none;\n",
              "  }\n",
              "\n",
              "  .colab-df-spinner {\n",
              "    border: 2px solid var(--fill-color);\n",
              "    border-color: transparent;\n",
              "    border-bottom-color: var(--fill-color);\n",
              "    animation:\n",
              "      spin 1s steps(1) infinite;\n",
              "  }\n",
              "\n",
              "  @keyframes spin {\n",
              "    0% {\n",
              "      border-color: transparent;\n",
              "      border-bottom-color: var(--fill-color);\n",
              "      border-left-color: var(--fill-color);\n",
              "    }\n",
              "    20% {\n",
              "      border-color: transparent;\n",
              "      border-left-color: var(--fill-color);\n",
              "      border-top-color: var(--fill-color);\n",
              "    }\n",
              "    30% {\n",
              "      border-color: transparent;\n",
              "      border-left-color: var(--fill-color);\n",
              "      border-top-color: var(--fill-color);\n",
              "      border-right-color: var(--fill-color);\n",
              "    }\n",
              "    40% {\n",
              "      border-color: transparent;\n",
              "      border-right-color: var(--fill-color);\n",
              "      border-top-color: var(--fill-color);\n",
              "    }\n",
              "    60% {\n",
              "      border-color: transparent;\n",
              "      border-right-color: var(--fill-color);\n",
              "    }\n",
              "    80% {\n",
              "      border-color: transparent;\n",
              "      border-right-color: var(--fill-color);\n",
              "      border-bottom-color: var(--fill-color);\n",
              "    }\n",
              "    90% {\n",
              "      border-color: transparent;\n",
              "      border-bottom-color: var(--fill-color);\n",
              "    }\n",
              "  }\n",
              "</style>\n",
              "\n",
              "      <script>\n",
              "        async function quickchart(key) {\n",
              "          const quickchartButtonEl =\n",
              "            document.querySelector('#' + key + ' button');\n",
              "          quickchartButtonEl.disabled = true;  // To prevent multiple clicks.\n",
              "          quickchartButtonEl.classList.add('colab-df-spinner');\n",
              "          try {\n",
              "            const charts = await google.colab.kernel.invokeFunction(\n",
              "                'suggestCharts', [key], {});\n",
              "          } catch (error) {\n",
              "            console.error('Error during call to suggestCharts:', error);\n",
              "          }\n",
              "          quickchartButtonEl.classList.remove('colab-df-spinner');\n",
              "          quickchartButtonEl.classList.add('colab-df-quickchart-complete');\n",
              "        }\n",
              "        (() => {\n",
              "          let quickchartButtonEl =\n",
              "            document.querySelector('#df-5db84733-06ef-4566-828c-965e815ddf09 button');\n",
              "          quickchartButtonEl.style.display =\n",
              "            google.colab.kernel.accessAllowed ? 'block' : 'none';\n",
              "        })();\n",
              "      </script>\n",
              "    </div>\n",
              "\n",
              "  <div id=\"id_e831ce41-c9c8-4d58-a720-065689899791\">\n",
              "    <style>\n",
              "      .colab-df-generate {\n",
              "        background-color: #E8F0FE;\n",
              "        border: none;\n",
              "        border-radius: 50%;\n",
              "        cursor: pointer;\n",
              "        display: none;\n",
              "        fill: #1967D2;\n",
              "        height: 32px;\n",
              "        padding: 0 0 0 0;\n",
              "        width: 32px;\n",
              "      }\n",
              "\n",
              "      .colab-df-generate:hover {\n",
              "        background-color: #E2EBFA;\n",
              "        box-shadow: 0px 1px 2px rgba(60, 64, 67, 0.3), 0px 1px 3px 1px rgba(60, 64, 67, 0.15);\n",
              "        fill: #174EA6;\n",
              "      }\n",
              "\n",
              "      [theme=dark] .colab-df-generate {\n",
              "        background-color: #3B4455;\n",
              "        fill: #D2E3FC;\n",
              "      }\n",
              "\n",
              "      [theme=dark] .colab-df-generate:hover {\n",
              "        background-color: #434B5C;\n",
              "        box-shadow: 0px 1px 3px 1px rgba(0, 0, 0, 0.15);\n",
              "        filter: drop-shadow(0px 1px 2px rgba(0, 0, 0, 0.3));\n",
              "        fill: #FFFFFF;\n",
              "      }\n",
              "    </style>\n",
              "    <button class=\"colab-df-generate\" onclick=\"generateWithVariable('enade2017')\"\n",
              "            title=\"Generate code using this dataframe.\"\n",
              "            style=\"display:none;\">\n",
              "\n",
              "  <svg xmlns=\"http://www.w3.org/2000/svg\" height=\"24px\"viewBox=\"0 0 24 24\"\n",
              "       width=\"24px\">\n",
              "    <path d=\"M7,19H8.4L18.45,9,17,7.55,7,17.6ZM5,21V16.75L18.45,3.32a2,2,0,0,1,2.83,0l1.4,1.43a1.91,1.91,0,0,1,.58,1.4,1.91,1.91,0,0,1-.58,1.4L9.25,21ZM18.45,9,17,7.55Zm-12,3A5.31,5.31,0,0,0,4.9,8.1,5.31,5.31,0,0,0,1,6.5,5.31,5.31,0,0,0,4.9,4.9,5.31,5.31,0,0,0,6.5,1,5.31,5.31,0,0,0,8.1,4.9,5.31,5.31,0,0,0,12,6.5,5.46,5.46,0,0,0,6.5,12Z\"/>\n",
              "  </svg>\n",
              "    </button>\n",
              "    <script>\n",
              "      (() => {\n",
              "      const buttonEl =\n",
              "        document.querySelector('#id_e831ce41-c9c8-4d58-a720-065689899791 button.colab-df-generate');\n",
              "      buttonEl.style.display =\n",
              "        google.colab.kernel.accessAllowed ? 'block' : 'none';\n",
              "\n",
              "      buttonEl.onclick = () => {\n",
              "        google.colab.notebook.generateWithVariable('enade2017');\n",
              "      }\n",
              "      })();\n",
              "    </script>\n",
              "  </div>\n",
              "\n",
              "    </div>\n",
              "  </div>\n"
            ],
            "application/vnd.google.colaboratory.intrinsic+json": {
              "type": "dataframe",
              "variable_name": "enade2017"
            }
          },
          "metadata": {},
          "execution_count": 4
        }
      ]
    },
    {
      "cell_type": "code",
      "source": [
        "# Seleção das variáveis desejadas\n",
        "microdados_enade_filtrados = enade2017[['CO_GRUPO','CO_REGIAO_CURSO','NU_IDADE','TP_SEXO','CO_TURNO_GRADUACAO','NT_GER',\n",
        "                                         'QE_I01','QE_I02','QE_I08','QE_I21','QE_I23','NT_OBJ_FG','NT_OBJ_CE']]\n",
        "\n"
      ],
      "metadata": {
        "id": "p1Zjo8Wpasn0"
      },
      "id": "p1Zjo8Wpasn0",
      "execution_count": null,
      "outputs": []
    },
    {
      "cell_type": "markdown",
      "source": [
        "# Filtrando o curso de ADS"
      ],
      "metadata": {
        "id": "g-NyzG8SbC5S"
      },
      "id": "g-NyzG8SbC5S"
    },
    {
      "cell_type": "code",
      "source": [
        "microdados_ti = microdados_enade_filtrados[microdados_enade_filtrados['CO_GRUPO'] == 72].copy()"
      ],
      "metadata": {
        "id": "7s1MlQbea3q3"
      },
      "id": "7s1MlQbea3q3",
      "execution_count": null,
      "outputs": []
    },
    {
      "cell_type": "markdown",
      "source": [
        "# Transformando variáveis - Colocando os labels"
      ],
      "metadata": {
        "id": "QQUPnaLVbB7F"
      },
      "id": "QQUPnaLVbB7F"
    },
    {
      "cell_type": "code",
      "source": [
        "\n",
        "estado_civil_map = {'A': 'Solteiro(a)', 'B': 'Casado(a)', 'C': 'Separado(a)', 'D': 'Viúvo(a)', 'E': 'Outro'}\n",
        "microdados_ti['estado_civil2'] = microdados_ti['QE_I01'].map(estado_civil_map)\n",
        "\n",
        "regiao_map = {1: 'Norte', 2: 'Nordeste', 3: 'Sudeste', 4: 'Sul', 5: 'Centro-Oeste'}\n",
        "microdados_ti['regiao'] = microdados_ti['CO_REGIAO_CURSO'].map(regiao_map)\n",
        "\n",
        "sexo_map = {'M': 'Masculino', 'F': 'Feminino'}\n",
        "microdados_ti['sexo'] = microdados_ti['TP_SEXO'].map(sexo_map)\n",
        "\n",
        "hestudos_map = {'A': 'Nenhuma, apenas assisto as aulas',\n",
        "                'B': 'De uma a três',\n",
        "                'C': 'De quatro a sete',\n",
        "                'D': 'De oito a doze',\n",
        "                'E': 'Mais de doze'}\n",
        "microdados_ti['hestudos'] = microdados_ti['QE_I23'].map(hestudos_map)\n",
        "\n"
      ],
      "metadata": {
        "id": "9YiFPEUAa7Gl"
      },
      "id": "9YiFPEUAa7Gl",
      "execution_count": null,
      "outputs": []
    },
    {
      "cell_type": "markdown",
      "source": [
        "# Data quality - Remover NA's"
      ],
      "metadata": {
        "id": "FXQVCQVEbOyv"
      },
      "id": "FXQVCQVEbOyv"
    },
    {
      "cell_type": "code",
      "source": [
        "microdados_ti_sem_NA = microdados_ti.dropna()"
      ],
      "metadata": {
        "id": "Dw8x5or1YBph"
      },
      "id": "Dw8x5or1YBph",
      "execution_count": null,
      "outputs": []
    },
    {
      "cell_type": "markdown",
      "source": [
        "# Estatísticas resumo da variável NT_OBJ_CE"
      ],
      "metadata": {
        "id": "CQob4bQRbT5s"
      },
      "id": "CQob4bQRbT5s"
    },
    {
      "cell_type": "code",
      "source": [
        "microdados_ti_sem_NA['NT_OBJ_CE'] = pd.to_numeric(microdados_ti_sem_NA['NT_OBJ_CE'], errors='coerce')\n",
        "\n",
        "moda_series = microdados_ti_sem_NA['NT_OBJ_CE'].mode()\n",
        "moda_value = moda_series.iloc[0] if not moda_series.empty else None\n",
        "\n",
        "estatisticas = {\n",
        "    'quantidade': microdados_ti_sem_NA['NT_OBJ_CE'].count(),\n",
        "    'media': microdados_ti_sem_NA['NT_OBJ_CE'].mean(),\n",
        "    'mediana': microdados_ti_sem_NA['NT_OBJ_CE'].median(),\n",
        "    'moda': moda_value,\n",
        "    'cv': microdados_ti_sem_NA['NT_OBJ_CE'].std() / microdados_ti_sem_NA['NT_OBJ_CE'].mean() * 100,\n",
        "    'assimetria': skew(microdados_ti_sem_NA['NT_OBJ_CE']),\n",
        "    'curtose': kurtosis(microdados_ti_sem_NA['NT_OBJ_CE'])\n",
        "}\n",
        "print(estatisticas)"
      ],
      "metadata": {
        "colab": {
          "base_uri": "https://localhost:8080/"
        },
        "collapsed": true,
        "id": "MqGIcAHjbS7p",
        "outputId": "ae398e94-c0b1-41e4-9060-9738b332cc66"
      },
      "id": "MqGIcAHjbS7p",
      "execution_count": null,
      "outputs": [
        {
          "output_type": "stream",
          "name": "stdout",
          "text": [
            "{'quantidade': np.int64(932), 'media': np.float64(43.03111587982833), 'mediana': 45.0, 'moda': np.float64(35.0), 'cv': np.float64(37.18833166821532), 'assimetria': np.float64(0.09656196776403853), 'curtose': np.float64(-0.4212951199614001)}\n"
          ]
        },
        {
          "output_type": "stream",
          "name": "stderr",
          "text": [
            "/tmp/ipython-input-4013397027.py:1: SettingWithCopyWarning:\n",
            "\n",
            "\n",
            "A value is trying to be set on a copy of a slice from a DataFrame.\n",
            "Try using .loc[row_indexer,col_indexer] = value instead\n",
            "\n",
            "See the caveats in the documentation: https://pandas.pydata.org/pandas-docs/stable/user_guide/indexing.html#returning-a-view-versus-a-copy\n",
            "\n"
          ]
        }
      ]
    },
    {
      "cell_type": "code",
      "source": [
        "# Gráficos da análise descritiva para nota dos alunos de ADS\n",
        "fig, axs = plt.subplots(3, 1, figsize=(10, 15))\n",
        "\n",
        "# Histograma\n",
        "sns.histplot(microdados_ti_sem_NA['NT_OBJ_CE'], bins=50, stat='density', color='lightblue', ax=axs[0], edgecolor='black')\n",
        "axs[0].set_title('Histograma da nota dos alunos de análise de sistemas (ADS)')\n",
        "axs[0].set_xlabel('Nota')\n",
        "axs[0].set_ylabel('Densidade')\n",
        "\n",
        "# Curva de densidade\n",
        "sns.kdeplot(microdados_ti_sem_NA['NT_OBJ_CE'], color='red', ax=axs[1])\n",
        "axs[1].set_title('Curva de densidade da nota dos alunos de análise de sistemas')\n",
        "axs[1].set_xlabel('Nota')\n",
        "axs[1].set_ylabel('Densidade')\n",
        "\n",
        "# Histograma e curva de densidade juntos\n",
        "sns.histplot(microdados_ti_sem_NA['NT_OBJ_CE'], bins=50, stat='density', color='lightblue', ax=axs[2], edgecolor='black')\n",
        "sns.kdeplot(microdados_ti_sem_NA['NT_OBJ_CE'], color='red', ax=axs[2])\n",
        "axs[2].set_title('Histograma e curva de densidade da nota dos alunos de análise de sistemas')\n",
        "axs[2].set_xlabel('Nota')\n",
        "axs[2].set_ylabel('Densidade')\n",
        "\n",
        "plt.tight_layout()\n",
        "plt.show()\n"
      ],
      "metadata": {
        "colab": {
          "base_uri": "https://localhost:8080/",
          "height": 1000
        },
        "id": "HgM1HydebKJm",
        "outputId": "317365d2-37a1-4d1b-ccce-50cfd7e7ecdb"
      },
      "id": "HgM1HydebKJm",
      "execution_count": null,
      "outputs": [
        {
          "output_type": "display_data",
          "data": {
            "text/plain": [
              "<Figure size 1000x1500 with 3 Axes>"
            ],
            "image/png": "[encoded data removed]"
          },
          "metadata": {}
        }
      ]
    },
    {
      "cell_type": "code",
      "source": [
        "# Comparando médias por sexo e estado civil\n",
        "grouped_sexo_estado = microdados_ti_sem_NA.groupby(['sexo', 'estado_civil2']).agg(\n",
        "    quantidade=('NT_GER', 'count'),\n",
        "    media=('NT_GER', 'mean'),\n",
        "    mediana=('NT_GER', 'median'),\n",
        "    cv=('NT_GER', lambda x: x.std() / x.mean() * 100),\n",
        "    amplitude_interquartil=('NT_GER', lambda x: x.quantile(0.75) - x.quantile(0.25))\n",
        ").reset_index().sort_values(by='mediana', ascending=False)\n",
        "print(grouped_sexo_estado)"
      ],
      "metadata": {
        "colab": {
          "base_uri": "https://localhost:8080/"
        },
        "id": "7110-s7QfF7I",
        "outputId": "c4116bc8-cef1-4383-8f4e-bed8c516d4dc"
      },
      "id": "7110-s7QfF7I",
      "execution_count": null,
      "outputs": [
        {
          "output_type": "stream",
          "name": "stdout",
          "text": [
            "        sexo estado_civil2  quantidade      media mediana         cv  \\\n",
            "2   Feminino   Separado(a)           1       70.7    70.7        NaN   \n",
            "1   Feminino         Outro           3  46.833333    49.1  12.872334   \n",
            "6  Masculino   Separado(a)           8    39.8625   45.75  48.928160   \n",
            "5  Masculino         Outro          18  42.877778   44.95  31.967006   \n",
            "0   Feminino     Casado(a)           5      41.56    42.9  21.338039   \n",
            "3   Feminino   Solteiro(a)         114  41.137719   41.75  26.947142   \n",
            "7  Masculino   Solteiro(a)         666  40.777177    40.0  32.905316   \n",
            "4  Masculino     Casado(a)         115  38.431304    38.4  34.151904   \n",
            "8  Masculino      Viúvo(a)           2      35.85   35.85   2.169644   \n",
            "\n",
            "   amplitude_interquartil  \n",
            "2                   0.000  \n",
            "1                   5.700  \n",
            "6                  27.975  \n",
            "5                  20.175  \n",
            "0                  10.600  \n",
            "3                  17.125  \n",
            "7                  19.350  \n",
            "4                  20.600  \n",
            "8                   0.550  \n"
          ]
        }
      ]
    },
    {
      "cell_type": "markdown",
      "source": [
        "# Tabulação cruzada de estado civil vs sexo"
      ],
      "metadata": {
        "id": "ugvKw4IGf8bX"
      },
      "id": "ugvKw4IGf8bX"
    },
    {
      "cell_type": "code",
      "source": [
        "tab_civil_sexo = pd.crosstab(microdados_ti_sem_NA['estado_civil2'], microdados_ti_sem_NA['sexo'])\n",
        "print(tab_civil_sexo)\n",
        "\n",
        "# Proporção da tabulação cruzada\n",
        "prop_tab_civil_sexo = tab_civil_sexo.div(tab_civil_sexo.sum().sum())\n",
        "print(prop_tab_civil_sexo)"
      ],
      "metadata": {
        "colab": {
          "base_uri": "https://localhost:8080/"
        },
        "id": "pt9Pm7dVf6-I",
        "outputId": "d87dd185-994b-403b-fd3b-53c3030b45a6"
      },
      "id": "pt9Pm7dVf6-I",
      "execution_count": null,
      "outputs": [
        {
          "output_type": "stream",
          "name": "stdout",
          "text": [
            "sexo           Feminino  Masculino\n",
            "estado_civil2                     \n",
            "Casado(a)             5        115\n",
            "Outro                 3         18\n",
            "Separado(a)           1          8\n",
            "Solteiro(a)         114        666\n",
            "Viúvo(a)              0          2\n",
            "sexo           Feminino  Masculino\n",
            "estado_civil2                     \n",
            "Casado(a)      0.005365   0.123391\n",
            "Outro          0.003219   0.019313\n",
            "Separado(a)    0.001073   0.008584\n",
            "Solteiro(a)    0.122318   0.714592\n",
            "Viúvo(a)       0.000000   0.002146\n"
          ]
        }
      ]
    },
    {
      "cell_type": "markdown",
      "source": [
        "# Estatísticas por estado civil com assimetria e curtose\n"
      ],
      "metadata": {
        "id": "SjPcIeclf_40"
      },
      "id": "SjPcIeclf_40"
    },
    {
      "cell_type": "code",
      "source": [
        "microdados_ti_sem_NA['NT_GER'] = pd.to_numeric(microdados_ti_sem_NA['NT_GER'], errors='coerce')\n",
        "\n",
        "grouped_casados = microdados_ti_sem_NA.groupby('estado_civil2').agg(\n",
        "    quantidade=('NT_GER', 'count'),\n",
        "    media=('NT_GER', 'mean'),\n",
        "    mediana=('NT_GER', 'median'),\n",
        "    cv=('NT_GER', lambda x: x.std() / x.mean() * 100),\n",
        "    amplitude_interquartil=('NT_GER', lambda x: x.quantile(0.75) - x.quantile(0.25)),\n",
        "    assimetria=('NT_GER', skew),\n",
        "    curtose=('NT_GER', kurtosis)\n",
        ").reset_index().sort_values(by='cv', ascending=False)\n",
        "print(grouped_casados)\n",
        "\n"
      ],
      "metadata": {
        "colab": {
          "base_uri": "https://localhost:8080/"
        },
        "collapsed": true,
        "id": "rbF__Ev_e_gJ",
        "outputId": "767a3308-79ee-4361-e50a-1830d62ef3ed"
      },
      "id": "rbF__Ev_e_gJ",
      "execution_count": null,
      "outputs": [
        {
          "output_type": "stream",
          "name": "stdout",
          "text": [
            "  estado_civil2  quantidade      media  mediana         cv  \\\n",
            "2   Separado(a)           9  43.288889    52.60  48.374483   \n",
            "0     Casado(a)         120  38.561667    38.45  33.618924   \n",
            "3   Solteiro(a)         780  40.829872    40.15  32.077222   \n",
            "1         Outro          21  43.442857    47.20  29.598522   \n",
            "4      Viúvo(a)           2  35.850000    35.85   2.169644   \n",
            "\n",
            "   amplitude_interquartil    assimetria   curtose  \n",
            "2                   28.10 -4.413419e-01 -1.121742  \n",
            "0                   20.50  1.901354e-01 -0.557697  \n",
            "3                   19.30  1.607680e-01 -0.278908  \n",
            "1                   16.80 -6.831068e-01  0.168420  \n",
            "4                    0.55  1.943516e-14 -2.000000  \n"
          ]
        },
        {
          "output_type": "stream",
          "name": "stderr",
          "text": [
            "/tmp/ipython-input-2482672660.py:1: SettingWithCopyWarning:\n",
            "\n",
            "\n",
            "A value is trying to be set on a copy of a slice from a DataFrame.\n",
            "Try using .loc[row_indexer,col_indexer] = value instead\n",
            "\n",
            "See the caveats in the documentation: https://pandas.pydata.org/pandas-docs/stable/user_guide/indexing.html#returning-a-view-versus-a-copy\n",
            "\n"
          ]
        }
      ]
    },
    {
      "cell_type": "markdown",
      "source": [
        "# Gráficos histograma e boxplot pela variável estado civil e sexo"
      ],
      "metadata": {
        "id": "yXPUYQQeha_u"
      },
      "id": "yXPUYQQeha_u"
    },
    {
      "cell_type": "code",
      "source": [
        "import seaborn as sns\n",
        "import matplotlib.pyplot as plt\n",
        "\n",
        "fig, axes = plt.subplots(2, 1, figsize=(10, 10), sharex=True)\n",
        "\n",
        "# Histogram\n",
        "sns.histplot(\n",
        "    data=microdados_ti_sem_NA, x='NT_GER', hue='estado_civil2',\n",
        "    bins=50, element='step', kde=False, stat='count', ax=axes[0]\n",
        ")\n",
        "axes[0].set_title('Histograma da Nota por Estado Civil')\n",
        "axes[0].set_xlabel('')\n",
        "axes[0].set_ylabel('Frequência')\n",
        "axes[0].legend(title='Estado Civil')\n",
        "\n",
        "# Boxplot\n",
        "sns.boxplot(\n",
        "    data=microdados_ti_sem_NA, x='estado_civil2', y='NT_GER', ax=axes[1]\n",
        ")\n",
        "axes[1].set_title('Boxplot da Nota por Estado Civil')\n",
        "axes[1].set_xlabel('Estado Civil')\n",
        "axes[1].set_ylabel('NT_GER')\n",
        "\n",
        "plt.tight_layout()\n",
        "plt.show()\n"
      ],
      "metadata": {
        "colab": {
          "base_uri": "https://localhost:8080/",
          "height": 1000
        },
        "id": "kTwoHO2gfihJ",
        "outputId": "7b256f49-d42c-45e5-ca7f-1b43d1de3e0e"
      },
      "id": "kTwoHO2gfihJ",
      "execution_count": null,
      "outputs": [
        {
          "output_type": "stream",
          "name": "stderr",
          "text": [
            "/tmp/ipython-input-2048117786.py:14: UserWarning:\n",
            "\n",
            "No artists with labels found to put in legend.  Note that artists whose label start with an underscore are ignored when legend() is called with no argument.\n",
            "\n"
          ]
        },
        {
          "output_type": "display_data",
          "data": {
            "text/plain": [
              "<Figure size 1000x1000 with 2 Axes>"
            ],
            "image/png": "[encoded data removed]"
          },
          "metadata": {}
        }
      ]
    },
    {
      "cell_type": "code",
      "source": [
        "import seaborn as sns\n",
        "import matplotlib.pyplot as plt\n",
        "\n",
        "plt.figure(figsize=(10, 6))\n",
        "sns.histplot(data=microdados_ti_sem_NA, x='NT_GER', hue='estado_civil2',\n",
        "             bins=50, element='step', kde=False, stat='count')\n",
        "plt.title('Histograma da Nota por Estado Civil')\n",
        "plt.xlabel('NT_GER')\n",
        "plt.ylabel('Frequência')\n",
        "plt.legend(title='Estado Civil')\n",
        "plt.show()\n"
      ],
      "metadata": {
        "colab": {
          "base_uri": "https://localhost:8080/",
          "height": 653
        },
        "id": "vFxNTggghYtv",
        "outputId": "1481945e-6cd8-466d-b662-116d25870f4d"
      },
      "id": "vFxNTggghYtv",
      "execution_count": null,
      "outputs": [
        {
          "output_type": "stream",
          "name": "stderr",
          "text": [
            "/tmp/ipython-input-3204237536.py:10: UserWarning:\n",
            "\n",
            "No artists with labels found to put in legend.  Note that artists whose label start with an underscore are ignored when legend() is called with no argument.\n",
            "\n"
          ]
        },
        {
          "output_type": "display_data",
          "data": {
            "text/plain": [
              "<Figure size 1000x600 with 1 Axes>"
            ],
            "image/png": "[encoded data removed]"
          },
          "metadata": {}
        }
      ]
    },
    {
      "cell_type": "markdown",
      "source": [
        "\n",
        "# Comparando as médias por sexo e região"
      ],
      "metadata": {
        "id": "KX_A_09rhsU7"
      },
      "id": "KX_A_09rhsU7"
    },
    {
      "cell_type": "code",
      "source": [
        "\n",
        "grouped_sexo_regiao = microdados_ti_sem_NA.groupby(['sexo', 'regiao']).agg(\n",
        "    quantidade=('NT_GER', 'count'),\n",
        "    media=('NT_GER', 'mean'),\n",
        "    mediana=('NT_GER', 'median'),\n",
        "    cv=('NT_GER', lambda x: x.std() / x.mean() * 100),\n",
        "    amplitude_interquartil=('NT_GER', lambda x: x.quantile(0.75) - x.quantile(0.25)),\n",
        "    assimetria=('NT_GER', skew),\n",
        "    curtose=('NT_GER', kurtosis)\n",
        ").reset_index().sort_values(by='media', ascending=False)\n",
        "print(grouped_sexo_regiao)"
      ],
      "metadata": {
        "id": "6nqProadhrWl"
      },
      "id": "6nqProadhrWl",
      "execution_count": null,
      "outputs": []
    },
    {
      "cell_type": "markdown",
      "source": [
        "# Tabulação cruzada região x sexo\n"
      ],
      "metadata": {
        "id": "WHZKhX-Bhy6M"
      },
      "id": "WHZKhX-Bhy6M"
    },
    {
      "cell_type": "code",
      "source": [
        "tab_regiao_sexo = pd.crosstab(microdados_ti_sem_NA['regiao'], microdados_ti_sem_NA['sexo'])\n",
        "print(tab_regiao_sexo)\n",
        "\n",
        "# Proporção da tabulação cruzada\n",
        "prop_tab_regiao_sexo = tab_regiao_sexo.div(tab_regiao_sexo.sum().sum())\n",
        "print(prop_tab_regiao_sexo)"
      ],
      "metadata": {
        "id": "j1LWIYixhv56"
      },
      "id": "j1LWIYixhv56",
      "execution_count": null,
      "outputs": []
    },
    {
      "cell_type": "markdown",
      "source": [
        "# Gráficos histograma e boxplot para região e sexo"
      ],
      "metadata": {
        "id": "Pr4q3OdLh0JO"
      },
      "id": "Pr4q3OdLh0JO"
    },
    {
      "cell_type": "code",
      "source": [
        "fig_hist2 = px.histogram(df_valid, x='NT_GER', color='regiao', title='Histograma da Nota por região e sexo',\n",
        "                         nbins=50, barmode='overlay', facet_col='sexo')\n",
        "fig_hist2.show()\n",
        "\n",
        "fig_box2 = px.box(df_valid, x='regiao', y='NT_GER', color='regiao', title='Boxplot da Nota por região e sexo',\n",
        "                  facet_col='sexo')\n",
        "fig_box2.update_xaxes(tickangle=90)\n",
        "fig_box2.show()\n",
        "\n"
      ],
      "metadata": {
        "id": "JT09bpfJgRzN"
      },
      "id": "JT09bpfJgRzN",
      "execution_count": null,
      "outputs": []
    }
  ],
  "metadata": {
    "kernelspec": {
      "display_name": "Python 3",
      "language": "python",
      "name": "python3"
    },
    "language_info": {
      "name": "python",
      "version": "3.9.13",
      "mimetype": "text/x-python",
      "codemirror_mode": {
        "name": "ipython",
        "version": 3
      },
      "pygments_lexer": "ipython3",
      "nbconvert_exporter": "python",
      "file_extension": ".py"
    },
    "colab": {
      "provenance": [],
      "include_colab_link": true
    }
  },
  "nbformat": 4,
  "nbformat_minor": 5
}