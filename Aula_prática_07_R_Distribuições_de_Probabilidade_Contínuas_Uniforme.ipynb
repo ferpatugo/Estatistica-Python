{
  "cells": [
    {
      "cell_type": "markdown",
      "metadata": {
        "id": "view-in-github",
        "colab_type": "text"
      },
      "source": [
        "<a href=\"https://colab.research.google.com/github/ferpatugo/Estatistica-Python/blob/main/Aula_pr%C3%A1tica_07_R_Distribui%C3%A7%C3%B5es_de_Probabilidade_Cont%C3%ADnuas_Uniforme.ipynb\" target=\"_parent\"><img src=\"https://colab.research.google.com/assets/colab-badge.svg\" alt=\"Open In Colab\"/></a>"
      ]
    },
    {
      "cell_type": "code",
      "source": [
        "# Aula prática 07 - Python - Distribuições de Probabilidade Contínuas - Uniforme\n",
        "from scipy.stats import uniform"
      ],
      "metadata": {
        "id": "GTTxfhYlRpG3"
      },
      "id": "GTTxfhYlRpG3",
      "execution_count": null,
      "outputs": []
    },
    {
      "cell_type": "markdown",
      "source": [
        "### Exemplo Uniforme: Seja a variável aleatória contínua X a corrente medida em um fio delgado de cobre em miliamperes (mA). Considere que a faixa de X possa variar entre 0 e 10 mA. Pede-se:\n",
        "\n",
        "### a) Calcule a função de densidade de probabilidade para esta faixa de X, sabendo que esta distribuição é uniforme.\n",
        "### b) Qual é a probabilidade da medida da corrente estar entre 5 e 10 miliamperes?\n",
        "### c) Determine a média (valor esperado) e a variância da distribuição.\n"
      ],
      "metadata": {
        "id": "MgG5iz2VRshs"
      },
      "id": "MgG5iz2VRshs"
    },
    {
      "cell_type": "code",
      "source": [
        "a = 0  # limite inferior\n",
        "b = 10 # limite superior\n",
        "\n",
        "# a) Função de densidade de probabilidade f(x) = 1/(b-a) para distribuição uniforme\n",
        "fdp = 1 / (b - a)\n",
        "print(f'Função densidade de probabilidade f(x): {fdp:.4f}')"
      ],
      "metadata": {
        "id": "jHr-pN0IRwXK"
      },
      "id": "jHr-pN0IRwXK",
      "execution_count": null,
      "outputs": []
    },
    {
      "cell_type": "code",
      "execution_count": null,
      "metadata": {
        "id": "NakPT01dRoBg"
      },
      "outputs": [],
      "source": [
        "# b) Probabilidade de a corrente estar entre 5 e 10 mA usando função de distribuição acumulada (CDF)\n",
        "prob_5_10 = uniform.cdf(x=10, loc=a, scale=b - a) - uniform.cdf(x=5, loc=a, scale=b - a)\n",
        "print(f'Probabilidade P(5 <= X <= 10): {prob_5_10:.4f}')\n",
        "\n"
      ],
      "id": "NakPT01dRoBg"
    },
    {
      "cell_type": "code",
      "source": [
        "# Também calculado manualmente (área do intervalo multiplicada pela densidade)\n",
        "prob_manual = (10 - 5) * fdp\n",
        "print(f'Probabilidade manual P(5 <= X <= 10): {prob_manual:.4f}')"
      ],
      "metadata": {
        "id": "fo9w_6fnS9iI"
      },
      "id": "fo9w_6fnS9iI",
      "execution_count": null,
      "outputs": []
    },
    {
      "cell_type": "code",
      "source": [
        "# c) Média (valor esperado) e variância da distribuição uniforme\n",
        "media = (b + a) / 2\n",
        "variancia = ((b - a) ** 2) / 12\n",
        "print(f'Média: {media}, Variância: {variancia}')\n"
      ],
      "metadata": {
        "id": "XpWPEqNuRzJW"
      },
      "id": "XpWPEqNuRzJW",
      "execution_count": null,
      "outputs": []
    }
  ],
  "metadata": {
    "kernelspec": {
      "display_name": "Python 3",
      "language": "python",
      "name": "python3"
    },
    "language_info": {
      "name": "python",
      "version": "3.8.10",
      "mimetype": "text/x-python",
      "codemirror_mode": {
        "name": "ipython",
        "version": 3
      },
      "pygments_lexer": "ipython3",
      "nbconvert_exporter": "python",
      "file_extension": ".py"
    },
    "colab": {
      "provenance": [],
      "include_colab_link": true
    }
  },
  "nbformat": 4,
  "nbformat_minor": 5
}